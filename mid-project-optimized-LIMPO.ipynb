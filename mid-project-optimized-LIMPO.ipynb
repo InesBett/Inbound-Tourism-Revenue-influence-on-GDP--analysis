{
 "cells": [
  {
   "cell_type": "markdown",
   "id": "863c51bb-8380-4a93-8852-ee66db10a91c",
   "metadata": {},
   "source": [
    "<h1 style=\"color: #47FF64;\"> Import clean data .py file </h1>"
   ]
  },
  {
   "cell_type": "code",
   "execution_count": 1,
   "id": "a38f7afb-9679-4cfe-b2b3-814529fd297f",
   "metadata": {},
   "outputs": [],
   "source": [
    "import pandas as pd\n",
    "pd.set_option('display.float_format', '{:,.2f}'.format) "
   ]
  },
  {
   "cell_type": "markdown",
   "id": "69ce1f01-c7d0-48c3-b587-cf553a8a2eda",
   "metadata": {},
   "source": [
    "I did the code above to ensure that my data keeps formatted with 2 decimals as i wish"
   ]
  },
  {
   "cell_type": "code",
   "execution_count": 2,
   "id": "d12c7fa5-afdc-49b7-823e-793af9af3779",
   "metadata": {},
   "outputs": [
    {
     "name": "stdout",
     "output_type": "stream",
     "text": [
      "C:\\Users\\Inês Bettencourt\\Documents\\Ironhack\\Mid Project\n",
      "C:\\Users\\Inês Bettencourt\\Documents\\Ironhack\\Mid Project\\mid project clean\n"
     ]
    }
   ],
   "source": [
    "import os\n",
    "print(os.getcwd())\n",
    "os.chdir(\"C:/Users/Inês Bettencourt/Documents/Ironhack/Mid Project/mid project clean\")\n",
    "print(os.getcwd()) #redirect my directory to the new clean one"
   ]
  },
  {
   "cell_type": "code",
   "execution_count": 3,
   "id": "e58636f9-e444-4e4f-8b10-2aa0c261602a",
   "metadata": {},
   "outputs": [],
   "source": [
    "import warnings\n",
    "warnings.filterwarnings('ignore') # ignore warnings"
   ]
  },
  {
   "cell_type": "code",
   "execution_count": 4,
   "id": "e90446c8-228d-42d0-a476-9135573cb206",
   "metadata": {},
   "outputs": [
    {
     "data": {
      "text/html": [
       "<div>\n",
       "<style scoped>\n",
       "    .dataframe tbody tr th:only-of-type {\n",
       "        vertical-align: middle;\n",
       "    }\n",
       "\n",
       "    .dataframe tbody tr th {\n",
       "        vertical-align: top;\n",
       "    }\n",
       "\n",
       "    .dataframe thead th {\n",
       "        text-align: right;\n",
       "    }\n",
       "</style>\n",
       "<table border=\"1\" class=\"dataframe\">\n",
       "  <thead>\n",
       "    <tr style=\"text-align: right;\">\n",
       "      <th></th>\n",
       "      <th>country</th>\n",
       "      <th>gdp</th>\n",
       "      <th>population_total</th>\n",
       "      <th>region</th>\n",
       "      <th>tourism_inbound</th>\n",
       "      <th>tourism_outbound</th>\n",
       "      <th>year</th>\n",
       "    </tr>\n",
       "  </thead>\n",
       "  <tbody>\n",
       "    <tr>\n",
       "      <th>0</th>\n",
       "      <td>Algeria</td>\n",
       "      <td>54,790,058,957.00</td>\n",
       "      <td>31719449</td>\n",
       "      <td>Africa</td>\n",
       "      <td>102,000,000.00</td>\n",
       "      <td>193,000,000.00</td>\n",
       "      <td>2000</td>\n",
       "    </tr>\n",
       "    <tr>\n",
       "      <th>1</th>\n",
       "      <td>Angola</td>\n",
       "      <td>9,129,594,819.00</td>\n",
       "      <td>13924930</td>\n",
       "      <td>Africa</td>\n",
       "      <td>34,000,000.00</td>\n",
       "      <td>146,000,000.00</td>\n",
       "      <td>2000</td>\n",
       "    </tr>\n",
       "    <tr>\n",
       "      <th>2</th>\n",
       "      <td>Benin</td>\n",
       "      <td>2,359,122,303.00</td>\n",
       "      <td>6949366</td>\n",
       "      <td>Africa</td>\n",
       "      <td>77,000,000.00</td>\n",
       "      <td>50,000,000.00</td>\n",
       "      <td>2000</td>\n",
       "    </tr>\n",
       "    <tr>\n",
       "      <th>3</th>\n",
       "      <td>Botswana</td>\n",
       "      <td>5,788,311,645.00</td>\n",
       "      <td>1755375</td>\n",
       "      <td>Africa</td>\n",
       "      <td>227,000,000.00</td>\n",
       "      <td>209,000,000.00</td>\n",
       "      <td>2000</td>\n",
       "    </tr>\n",
       "    <tr>\n",
       "      <th>4</th>\n",
       "      <td>Burkina Faso</td>\n",
       "      <td>2,610,959,139.00</td>\n",
       "      <td>11607944</td>\n",
       "      <td>Africa</td>\n",
       "      <td>23,000,000.00</td>\n",
       "      <td>30,000,000.00</td>\n",
       "      <td>2000</td>\n",
       "    </tr>\n",
       "  </tbody>\n",
       "</table>\n",
       "</div>"
      ],
      "text/plain": [
       "        country               gdp  population_total  region  tourism_inbound  \\\n",
       "0       Algeria 54,790,058,957.00          31719449  Africa   102,000,000.00   \n",
       "1        Angola  9,129,594,819.00          13924930  Africa    34,000,000.00   \n",
       "2         Benin  2,359,122,303.00           6949366  Africa    77,000,000.00   \n",
       "3      Botswana  5,788,311,645.00           1755375  Africa   227,000,000.00   \n",
       "4  Burkina Faso  2,610,959,139.00          11607944  Africa    23,000,000.00   \n",
       "\n",
       "   tourism_outbound  year  \n",
       "0    193,000,000.00  2000  \n",
       "1    146,000,000.00  2000  \n",
       "2     50,000,000.00  2000  \n",
       "3    209,000,000.00  2000  \n",
       "4     30,000,000.00  2000  "
      ]
     },
     "execution_count": 4,
     "metadata": {},
     "output_type": "execute_result"
    }
   ],
   "source": [
    "df_clean = pd.read_csv(\"test_clean.csv\")\n",
    "df_clean.head()"
   ]
  },
  {
   "cell_type": "markdown",
   "id": "2b8e8603-7b1c-4bbe-b5eb-fc9ef7776eac",
   "metadata": {},
   "source": [
    "<h1 style=\"color: #47FF64;\"> 03| EDA (Exploratory Data Analysis) </h1>"
   ]
  },
  {
   "cell_type": "code",
   "execution_count": 5,
   "id": "c037827e-46a1-4a15-98dc-cad1f45cdc85",
   "metadata": {},
   "outputs": [],
   "source": [
    "import seaborn as sns\n",
    "import matplotlib.pyplot as plt"
   ]
  },
  {
   "cell_type": "markdown",
   "id": "7e98db8f-0525-48c1-9536-a3d65bf6f652",
   "metadata": {},
   "source": [
    "<h3 style=\"color: #47FF64;\"> Exploring numerical and categorical variable </h3>"
   ]
  },
  {
   "cell_type": "code",
   "execution_count": 6,
   "id": "700a9f8f-078f-46e0-8e53-58ee60febb09",
   "metadata": {},
   "outputs": [],
   "source": [
    "categorical= df_clean.select_dtypes(exclude=\"number\")"
   ]
  },
  {
   "cell_type": "code",
   "execution_count": 7,
   "id": "85ea2390-940c-4569-8434-d72d5039ec99",
   "metadata": {},
   "outputs": [],
   "source": [
    "numerical= df_clean.select_dtypes(include=\"number\")"
   ]
  },
  {
   "cell_type": "markdown",
   "id": "17c4c9b1-5869-4daa-a500-1c550dd1ebaa",
   "metadata": {},
   "source": [
    "<h3 style=\"color: #47FF64;\"> Univariate analysis </h3>"
   ]
  },
  {
   "cell_type": "markdown",
   "id": "4ef460f0-186f-4413-abd6-c5fb99b01647",
   "metadata": {},
   "source": [
    "I will start by doing univarite analyses for better understanding of each column"
   ]
  },
  {
   "cell_type": "markdown",
   "id": "f53aa344-d6c1-415c-9442-cc65ab09d41b",
   "metadata": {},
   "source": [
    "#### Categorical variables"
   ]
  },
  {
   "cell_type": "markdown",
   "id": "649aa1a0-689b-4494-9c8e-05c9b132d394",
   "metadata": {},
   "source": [
    "The proportion table for country comes as 0.00 due to the number of unique values present in this column. Since thare are a lot of unique values the proportion is a very small number therefore gets rounded to 0.00. So it does not give much insights,that is why i did not calculate it in this notebook\n",
    "\n",
    "However since the region column has a few unique values the proportion is well rounded and gives us real insights"
   ]
  },
  {
   "cell_type": "code",
   "execution_count": 8,
   "id": "72aa3a14-a23d-4cc9-bf7c-90c1d95c3ba0",
   "metadata": {},
   "outputs": [
    {
     "data": {
      "text/html": [
       "<div>\n",
       "<style scoped>\n",
       "    .dataframe tbody tr th:only-of-type {\n",
       "        vertical-align: middle;\n",
       "    }\n",
       "\n",
       "    .dataframe tbody tr th {\n",
       "        vertical-align: top;\n",
       "    }\n",
       "\n",
       "    .dataframe thead th {\n",
       "        text-align: right;\n",
       "    }\n",
       "</style>\n",
       "<table border=\"1\" class=\"dataframe\">\n",
       "  <thead>\n",
       "    <tr style=\"text-align: right;\">\n",
       "      <th></th>\n",
       "      <th>region</th>\n",
       "      <th>count</th>\n",
       "    </tr>\n",
       "  </thead>\n",
       "  <tbody>\n",
       "    <tr>\n",
       "      <th>0</th>\n",
       "      <td>Africa</td>\n",
       "      <td>689</td>\n",
       "    </tr>\n",
       "    <tr>\n",
       "      <th>1</th>\n",
       "      <td>Europe</td>\n",
       "      <td>624</td>\n",
       "    </tr>\n",
       "    <tr>\n",
       "      <th>2</th>\n",
       "      <td>The Americas</td>\n",
       "      <td>585</td>\n",
       "    </tr>\n",
       "    <tr>\n",
       "      <th>3</th>\n",
       "      <td>Asia</td>\n",
       "      <td>442</td>\n",
       "    </tr>\n",
       "    <tr>\n",
       "      <th>4</th>\n",
       "      <td>Oceania</td>\n",
       "      <td>195</td>\n",
       "    </tr>\n",
       "    <tr>\n",
       "      <th>5</th>\n",
       "      <td>Middle East</td>\n",
       "      <td>169</td>\n",
       "    </tr>\n",
       "  </tbody>\n",
       "</table>\n",
       "</div>"
      ],
      "text/plain": [
       "         region  count\n",
       "0        Africa    689\n",
       "1        Europe    624\n",
       "2  The Americas    585\n",
       "3          Asia    442\n",
       "4       Oceania    195\n",
       "5   Middle East    169"
      ]
     },
     "execution_count": 8,
     "metadata": {},
     "output_type": "execute_result"
    }
   ],
   "source": [
    "frequency_table_region= df_clean.region.value_counts()\n",
    "frequency_table_region.reset_index()"
   ]
  },
  {
   "cell_type": "code",
   "execution_count": 9,
   "id": "b392aac7-9334-46ff-81d4-c03351efb7cd",
   "metadata": {},
   "outputs": [
    {
     "data": {
      "text/html": [
       "<div>\n",
       "<style scoped>\n",
       "    .dataframe tbody tr th:only-of-type {\n",
       "        vertical-align: middle;\n",
       "    }\n",
       "\n",
       "    .dataframe tbody tr th {\n",
       "        vertical-align: top;\n",
       "    }\n",
       "\n",
       "    .dataframe thead th {\n",
       "        text-align: right;\n",
       "    }\n",
       "</style>\n",
       "<table border=\"1\" class=\"dataframe\">\n",
       "  <thead>\n",
       "    <tr style=\"text-align: right;\">\n",
       "      <th></th>\n",
       "      <th>region</th>\n",
       "      <th>proportion</th>\n",
       "    </tr>\n",
       "  </thead>\n",
       "  <tbody>\n",
       "    <tr>\n",
       "      <th>0</th>\n",
       "      <td>Africa</td>\n",
       "      <td>0.25</td>\n",
       "    </tr>\n",
       "    <tr>\n",
       "      <th>1</th>\n",
       "      <td>Europe</td>\n",
       "      <td>0.23</td>\n",
       "    </tr>\n",
       "    <tr>\n",
       "      <th>2</th>\n",
       "      <td>The Americas</td>\n",
       "      <td>0.22</td>\n",
       "    </tr>\n",
       "    <tr>\n",
       "      <th>3</th>\n",
       "      <td>Asia</td>\n",
       "      <td>0.16</td>\n",
       "    </tr>\n",
       "    <tr>\n",
       "      <th>4</th>\n",
       "      <td>Oceania</td>\n",
       "      <td>0.07</td>\n",
       "    </tr>\n",
       "    <tr>\n",
       "      <th>5</th>\n",
       "      <td>Middle East</td>\n",
       "      <td>0.06</td>\n",
       "    </tr>\n",
       "  </tbody>\n",
       "</table>\n",
       "</div>"
      ],
      "text/plain": [
       "         region  proportion\n",
       "0        Africa        0.25\n",
       "1        Europe        0.23\n",
       "2  The Americas        0.22\n",
       "3          Asia        0.16\n",
       "4       Oceania        0.07\n",
       "5   Middle East        0.06"
      ]
     },
     "execution_count": 9,
     "metadata": {},
     "output_type": "execute_result"
    }
   ],
   "source": [
    "proportion_table_region = df_clean.region.value_counts(normalize=True).round(2)\n",
    "proportion_table_region.reset_index()"
   ]
  },
  {
   "cell_type": "code",
   "execution_count": 10,
   "id": "2bb05d79-b152-4d9f-9d83-4fd9ff448b95",
   "metadata": {},
   "outputs": [
    {
     "data": {
      "text/html": [
       "<div>\n",
       "<style scoped>\n",
       "    .dataframe tbody tr th:only-of-type {\n",
       "        vertical-align: middle;\n",
       "    }\n",
       "\n",
       "    .dataframe tbody tr th {\n",
       "        vertical-align: top;\n",
       "    }\n",
       "\n",
       "    .dataframe thead th {\n",
       "        text-align: right;\n",
       "    }\n",
       "</style>\n",
       "<table border=\"1\" class=\"dataframe\">\n",
       "  <thead>\n",
       "    <tr style=\"text-align: right;\">\n",
       "      <th></th>\n",
       "      <th>absolute_frequency</th>\n",
       "      <th>relative_frequency</th>\n",
       "    </tr>\n",
       "    <tr>\n",
       "      <th>region</th>\n",
       "      <th></th>\n",
       "      <th></th>\n",
       "    </tr>\n",
       "  </thead>\n",
       "  <tbody>\n",
       "    <tr>\n",
       "      <th>Africa</th>\n",
       "      <td>689</td>\n",
       "      <td>0.25</td>\n",
       "    </tr>\n",
       "    <tr>\n",
       "      <th>Europe</th>\n",
       "      <td>624</td>\n",
       "      <td>0.23</td>\n",
       "    </tr>\n",
       "    <tr>\n",
       "      <th>The Americas</th>\n",
       "      <td>585</td>\n",
       "      <td>0.22</td>\n",
       "    </tr>\n",
       "    <tr>\n",
       "      <th>Asia</th>\n",
       "      <td>442</td>\n",
       "      <td>0.16</td>\n",
       "    </tr>\n",
       "    <tr>\n",
       "      <th>Oceania</th>\n",
       "      <td>195</td>\n",
       "      <td>0.07</td>\n",
       "    </tr>\n",
       "    <tr>\n",
       "      <th>Middle East</th>\n",
       "      <td>169</td>\n",
       "      <td>0.06</td>\n",
       "    </tr>\n",
       "  </tbody>\n",
       "</table>\n",
       "</div>"
      ],
      "text/plain": [
       "              absolute_frequency  relative_frequency\n",
       "region                                              \n",
       "Africa                       689                0.25\n",
       "Europe                       624                0.23\n",
       "The Americas                 585                0.22\n",
       "Asia                         442                0.16\n",
       "Oceania                      195                0.07\n",
       "Middle East                  169                0.06"
      ]
     },
     "execution_count": 10,
     "metadata": {},
     "output_type": "execute_result"
    }
   ],
   "source": [
    "region_table= pd.concat([frequency_table_region,proportion_table_region], axis=1)\n",
    "region_table.columns= ['absolute_frequency', 'relative_frequency']\n",
    "region_table"
   ]
  },
  {
   "cell_type": "markdown",
   "id": "ab80d157-476a-4878-84e0-3d98cb15d3f7",
   "metadata": {},
   "source": [
    "The frequency table gives the count of region, while the proportion table provides the percentage representation of each reagion in the dataset. This helps to quickly identify dominant and minority categories. I can already conclude that Africa is the major region followed by Europe and the region with the less proportion in this df is Middle East as it will also be shown in the visualizations bellow"
   ]
  },
  {
   "cell_type": "markdown",
   "id": "2eaa59e2-2de8-463a-953b-8c72144fbd0c",
   "metadata": {},
   "source": [
    "#### Visualizations"
   ]
  },
  {
   "cell_type": "code",
   "execution_count": 11,
   "id": "17aa5ee2-ce8a-45fd-a660-9b7f0c9ae07d",
   "metadata": {},
   "outputs": [
    {
     "data": {
      "image/png": "[encoded data removed]",
      "text/plain": [
       "<Figure size 640x480 with 1 Axes>"
      ]
     },
     "metadata": {},
     "output_type": "display_data"
    }
   ],
   "source": [
    "sns.barplot(x=\"region\", y=\"absolute_frequency\", data= region_table, palette= \"Greens\")\n",
    "plt.show()"
   ]
  },
  {
   "cell_type": "code",
   "execution_count": 12,
   "id": "e54781b5-669e-4ac5-bc1b-24c7db25ae9a",
   "metadata": {},
   "outputs": [
    {
     "data": {
      "image/png": "[encoded data removed]",
      "text/plain": [
       "<Figure size 640x480 with 1 Axes>"
      ]
     },
     "metadata": {},
     "output_type": "display_data"
    }
   ],
   "source": [
    "region_table[\"absolute_frequency\"].plot.pie(autopct='%1.2f%%' ,startangle=90, colors=sns.color_palette('Set2'))\n",
    "plt.show()"
   ]
  },
  {
   "cell_type": "markdown",
   "id": "a6b053b5-c08b-439c-bd19-6254523eb827",
   "metadata": {},
   "source": [
    "#### Numerical variables"
   ]
  },
  {
   "cell_type": "code",
   "execution_count": 13,
   "id": "4dca727e-dd2d-449a-831e-c98580142d52",
   "metadata": {},
   "outputs": [
    {
     "data": {
      "text/html": [
       "<div>\n",
       "<style scoped>\n",
       "    .dataframe tbody tr th:only-of-type {\n",
       "        vertical-align: middle;\n",
       "    }\n",
       "\n",
       "    .dataframe tbody tr th {\n",
       "        vertical-align: top;\n",
       "    }\n",
       "\n",
       "    .dataframe thead th {\n",
       "        text-align: right;\n",
       "    }\n",
       "</style>\n",
       "<table border=\"1\" class=\"dataframe\">\n",
       "  <thead>\n",
       "    <tr style=\"text-align: right;\">\n",
       "      <th></th>\n",
       "      <th>gdp</th>\n",
       "      <th>population_total</th>\n",
       "      <th>tourism_inbound</th>\n",
       "      <th>tourism_outbound</th>\n",
       "      <th>year</th>\n",
       "    </tr>\n",
       "  </thead>\n",
       "  <tbody>\n",
       "    <tr>\n",
       "      <th>count</th>\n",
       "      <td>2,704.00</td>\n",
       "      <td>2,704.00</td>\n",
       "      <td>2,704.00</td>\n",
       "      <td>2,704.00</td>\n",
       "      <td>2,704.00</td>\n",
       "    </tr>\n",
       "    <tr>\n",
       "      <th>mean</th>\n",
       "      <td>263,620,784,483.31</td>\n",
       "      <td>31,457,293.89</td>\n",
       "      <td>4,828,486,490.04</td>\n",
       "      <td>4,521,670,018.72</td>\n",
       "      <td>2,006.00</td>\n",
       "    </tr>\n",
       "    <tr>\n",
       "      <th>std</th>\n",
       "      <td>1,086,061,553,674.19</td>\n",
       "      <td>124,289,389.92</td>\n",
       "      <td>12,931,642,587.00</td>\n",
       "      <td>12,126,556,970.81</td>\n",
       "      <td>3.74</td>\n",
       "    </tr>\n",
       "    <tr>\n",
       "      <th>min</th>\n",
       "      <td>63,101,272.00</td>\n",
       "      <td>18,876.00</td>\n",
       "      <td>700,000.00</td>\n",
       "      <td>200,000.00</td>\n",
       "      <td>2,000.00</td>\n",
       "    </tr>\n",
       "    <tr>\n",
       "      <th>25%</th>\n",
       "      <td>4,113,748,121.25</td>\n",
       "      <td>878,336.00</td>\n",
       "      <td>186,000,000.00</td>\n",
       "      <td>147,000,000.00</td>\n",
       "      <td>2,003.00</td>\n",
       "    </tr>\n",
       "    <tr>\n",
       "      <th>50%</th>\n",
       "      <td>19,722,668,276.50</td>\n",
       "      <td>5,800,324.50</td>\n",
       "      <td>803,000,000.00</td>\n",
       "      <td>551,500,000.00</td>\n",
       "      <td>2,006.00</td>\n",
       "    </tr>\n",
       "    <tr>\n",
       "      <th>75%</th>\n",
       "      <td>144,007,314,732.25</td>\n",
       "      <td>20,140,891.75</td>\n",
       "      <td>4,701,064,957.26</td>\n",
       "      <td>3,746,369,230.77</td>\n",
       "      <td>2,009.00</td>\n",
       "    </tr>\n",
       "    <tr>\n",
       "      <th>max</th>\n",
       "      <td>16,244,600,000,000.00</td>\n",
       "      <td>1,350,695,000.00</td>\n",
       "      <td>200,092,000,000.00</td>\n",
       "      <td>126,573,000,000.00</td>\n",
       "      <td>2,012.00</td>\n",
       "    </tr>\n",
       "  </tbody>\n",
       "</table>\n",
       "</div>"
      ],
      "text/plain": [
       "                        gdp  population_total    tourism_inbound  \\\n",
       "count              2,704.00          2,704.00           2,704.00   \n",
       "mean     263,620,784,483.31     31,457,293.89   4,828,486,490.04   \n",
       "std    1,086,061,553,674.19    124,289,389.92  12,931,642,587.00   \n",
       "min           63,101,272.00         18,876.00         700,000.00   \n",
       "25%        4,113,748,121.25        878,336.00     186,000,000.00   \n",
       "50%       19,722,668,276.50      5,800,324.50     803,000,000.00   \n",
       "75%      144,007,314,732.25     20,140,891.75   4,701,064,957.26   \n",
       "max   16,244,600,000,000.00  1,350,695,000.00 200,092,000,000.00   \n",
       "\n",
       "        tourism_outbound     year  \n",
       "count           2,704.00 2,704.00  \n",
       "mean    4,521,670,018.72 2,006.00  \n",
       "std    12,126,556,970.81     3.74  \n",
       "min           200,000.00 2,000.00  \n",
       "25%       147,000,000.00 2,003.00  \n",
       "50%       551,500,000.00 2,006.00  \n",
       "75%     3,746,369,230.77 2,009.00  \n",
       "max   126,573,000,000.00 2,012.00  "
      ]
     },
     "execution_count": 13,
     "metadata": {},
     "output_type": "execute_result"
    }
   ],
   "source": [
    "numerical.describe()"
   ]
  },
  {
   "cell_type": "markdown",
   "id": "99326593-1b1c-46cf-93a8-8e950797c944",
   "metadata": {},
   "source": [
    "- Insights I draw from describe():\n",
    "\n",
    "The average value for GDP is 263,620,784,483.31, with a huge standard deviation, this means that some countries have very high GDP like 16,244,600,000,000.00 which is the max value, while some poor countries have really low values like 63,101,272.00 which is the minimum.\n",
    "\n",
    "The average value for population_total is 31,457,293.89\twith a big standard deviation this means that are bigger countries with high population like 1,350,695,000.00 and small countries with a population of 18,876.00 correspondent to maximum and minimum values respectively\n",
    "\n",
    "Tourism inbound is based on the number of tourists that visit that specific country. The average amount of tourists visiting is 4,828,486,490.04 with a high standard deviation which means that there are countries that receive more tourists than others. The maximum value is 200,092,000,000.00 which corresponds to the most touristic country while the minimum value 700,000.00 corresponds to the least visited country.\n",
    "\n",
    "Lastly, tourism outbound is based on the number of citizens from one country that visits foreign countries. The logic here is the same, the average amount of citizens flying out of the country is 4,521,670,018.72 with a standard deviation similar to inbound tourism, this means that some countries ahve a higher amount of citizens flying to other countries with a maximum value of 126,573,000,000.00 and countries with less tourists visiting other countries with a minimum value of 200,000.00.\n",
    "\n",
    "Is the GDP related to more tourists visiting each country as well its citizens being able to visit foreign countries? That is what I will comclude in this analyzes.\n"
   ]
  },
  {
   "cell_type": "markdown",
   "id": "e165e8b8-5070-4163-a919-fe59c9862a6a",
   "metadata": {},
   "source": [
    "#### Shape of distribution - Skewness"
   ]
  },
  {
   "cell_type": "code",
   "execution_count": 14,
   "id": "5db2d350-37e1-41f7-ac02-ff595f275a7b",
   "metadata": {},
   "outputs": [
    {
     "data": {
      "text/plain": [
       "9.79"
      ]
     },
     "execution_count": 14,
     "metadata": {},
     "output_type": "execute_result"
    }
   ],
   "source": [
    "df_clean[\"gdp\"].skew().round(2)"
   ]
  },
  {
   "cell_type": "code",
   "execution_count": 15,
   "id": "14851586-5886-4e22-aaab-a340ace056fc",
   "metadata": {},
   "outputs": [
    {
     "data": {
      "text/plain": [
       "7.58"
      ]
     },
     "execution_count": 15,
     "metadata": {},
     "output_type": "execute_result"
    }
   ],
   "source": [
    "df_clean[\"tourism_inbound\"].skew().round(2)"
   ]
  },
  {
   "cell_type": "code",
   "execution_count": 16,
   "id": "dd3941ab-a0b6-49b3-86cb-d7a09d95b941",
   "metadata": {},
   "outputs": [
    {
     "data": {
      "text/plain": [
       "8.79"
      ]
     },
     "execution_count": 16,
     "metadata": {},
     "output_type": "execute_result"
    }
   ],
   "source": [
    "df_clean[\"population_total\"].skew().round(2)"
   ]
  },
  {
   "cell_type": "code",
   "execution_count": 17,
   "id": "45b2062c-a8d6-4353-bec9-dbd2eac7a970",
   "metadata": {},
   "outputs": [
    {
     "data": {
      "text/plain": [
       "5.68"
      ]
     },
     "execution_count": 17,
     "metadata": {},
     "output_type": "execute_result"
    }
   ],
   "source": [
    "df_clean[\"tourism_outbound\"].skew().round(2)"
   ]
  },
  {
   "cell_type": "markdown",
   "id": "a34c4346-8108-4c40-9791-49705cb61950",
   "metadata": {},
   "source": [
    "All variables are right skewed which means that there are higher values acting as outliers and increasing the mean. This goes along with the anlaysis above, specially gdp which is the highest value. There are countries that have an incredibly low gdp while some countries have really high values"
   ]
  },
  {
   "cell_type": "markdown",
   "id": "2c6b341b-6163-4094-802b-4313a2f51665",
   "metadata": {},
   "source": [
    "#### Shape of distribution - Kurtosis"
   ]
  },
  {
   "cell_type": "code",
   "execution_count": 18,
   "id": "351473fa-3d84-40f0-88bd-d34cf6a58e9f",
   "metadata": {},
   "outputs": [
    {
     "data": {
      "text/plain": [
       "114.26"
      ]
     },
     "execution_count": 18,
     "metadata": {},
     "output_type": "execute_result"
    }
   ],
   "source": [
    "df_clean[\"gdp\"].kurtosis().round(2)"
   ]
  },
  {
   "cell_type": "code",
   "execution_count": 19,
   "id": "76607933-cdc7-4612-8fd1-0595a357ad04",
   "metadata": {},
   "outputs": [
    {
     "data": {
      "text/plain": [
       "79.35"
      ]
     },
     "execution_count": 19,
     "metadata": {},
     "output_type": "execute_result"
    }
   ],
   "source": [
    "df_clean[\"tourism_inbound\"].kurtosis().round(2)"
   ]
  },
  {
   "cell_type": "code",
   "execution_count": 20,
   "id": "26817f1c-02f1-40c8-b558-0f079f480b0b",
   "metadata": {},
   "outputs": [
    {
     "data": {
      "text/plain": [
       "82.38"
      ]
     },
     "execution_count": 20,
     "metadata": {},
     "output_type": "execute_result"
    }
   ],
   "source": [
    "df_clean[\"population_total\"].kurtosis().round(2)"
   ]
  },
  {
   "cell_type": "code",
   "execution_count": 21,
   "id": "972a91fb-83ad-4349-b69a-a4db5c71c342",
   "metadata": {},
   "outputs": [
    {
     "data": {
      "text/plain": [
       "38.61"
      ]
     },
     "execution_count": 21,
     "metadata": {},
     "output_type": "execute_result"
    }
   ],
   "source": [
    "df_clean[\"tourism_outbound\"].kurtosis().round(2)"
   ]
  },
  {
   "cell_type": "code",
   "execution_count": 22,
   "id": "80e9b851-44c7-418d-bc2b-4da76a45bdee",
   "metadata": {},
   "outputs": [
    {
     "data": {
      "image/png": "[encoded data removed]",
      "text/plain": [
       "<Figure size 1000x600 with 1 Axes>"
      ]
     },
     "metadata": {},
     "output_type": "display_data"
    }
   ],
   "source": [
    "plt.figure(figsize=(10, 6))\n",
    "\n",
    "sns.histplot(df_clean[\"gdp\"], kde=True, color=\"skyblue\", label=\"GDP\", bins=30, alpha=0.6)\n",
    "sns.histplot(df_clean[\"tourism_inbound\"], kde=True, color=\"orange\", label=\"Tourism Inbound\", bins=30, alpha=0.6)\n",
    "\n",
    "plt.title(\"GDP and Tourism Inbound Distribution\", fontsize=16)\n",
    "\n",
    "plt.xlabel(\"Value\", fontsize=12)\n",
    "plt.ylabel(\"Frequency\", fontsize=12)\n",
    "plt.legend()\n",
    "plt.show()"
   ]
  },
  {
   "cell_type": "markdown",
   "id": "173cefdc-50a9-4989-b817-fade926b2e32",
   "metadata": {},
   "source": [
    "All variables have a huge kurtosis making this distribution leptokurtic. I conclude that this distributions have heavier tails and a sharper peak compared to a normal distribution meaning that there are more extreme values (outliers) than expected in a normal distribution, specially in the gdp variable."
   ]
  },
  {
   "cell_type": "code",
   "execution_count": 23,
   "id": "b0b08006-4e62-477a-95c1-0bba8e8bb75a",
   "metadata": {},
   "outputs": [
    {
     "data": {
      "image/png": "[encoded data removed]",
      "text/plain": [
       "<Figure size 2000x1600 with 25 Axes>"
      ]
     },
     "metadata": {},
     "output_type": "display_data"
    }
   ],
   "source": [
    "color = '#3CB371'\n",
    "\n",
    "# grid size\n",
    "nrows, ncols = 5, 5  # adjust for your number of features\n",
    "\n",
    "fig, axes = plt.subplots(nrows=nrows, ncols=ncols, figsize=(20, 16))\n",
    "\n",
    "axes = axes.flatten()\n",
    "\n",
    "# Plot each numerical feature\n",
    "for i, ax in enumerate(axes):\n",
    "    if i >= len(numerical.columns):\n",
    "        ax.set_visible(False)  # hide unesed plots\n",
    "        continue\n",
    "    ax.hist(numerical.iloc[:, i], bins=30, color=color, edgecolor='black')\n",
    "    ax.set_title(numerical.columns[i])\n",
    "\n",
    "plt.tight_layout()\n",
    "plt.show()"
   ]
  },
  {
   "cell_type": "code",
   "execution_count": 24,
   "id": "3eeabd04-90dd-4448-8eab-0331f40bb7a6",
   "metadata": {},
   "outputs": [
    {
     "data": {
      "image/png": "[encoded data removed]",
      "text/plain": [
       "<Figure size 2000x1600 with 25 Axes>"
      ]
     },
     "metadata": {},
     "output_type": "display_data"
    }
   ],
   "source": [
    "color = '#3CB371'\n",
    "\n",
    "# grid size\n",
    "nrows, ncols = 5, 5\n",
    "\n",
    "fig, axes = plt.subplots(nrows=nrows, ncols=ncols, figsize=(20, 16))\n",
    "\n",
    "axes = axes.flatten()\n",
    "\n",
    "for i, ax in enumerate(axes):\n",
    "    if i >= len(numerical.columns):\n",
    "        ax.set_visible(False)\n",
    "        continue\n",
    "    ax.boxplot(numerical.iloc[:, i].dropna(), vert=False, patch_artist=True,\n",
    "               boxprops=dict(facecolor=color, color='black'),\n",
    "               medianprops=dict(color='yellow'), whiskerprops=dict(color='black'),\n",
    "               capprops=dict(color='black'), flierprops=dict(marker='o', color='red', markersize=5))\n",
    "    ax.set_title(numerical.columns[i], fontsize=10)\n",
    "    ax.tick_params(axis='x', labelsize=8)\n",
    "\n",
    "plt.tight_layout()\n",
    "plt.show()"
   ]
  },
  {
   "cell_type": "markdown",
   "id": "03e62ead-49bf-4b72-9476-ed9a39e6f91c",
   "metadata": {},
   "source": [
    "- Insights I draw from histograms and boxplots:\n",
    "\n",
    "As seen in the past analyses I can conclude once again that all variables are highly right skewed due to the big amount of outliers. The greatest part of the values are stored near 0 value which is a strong indicator of outliers or extreme values.\n",
    "\n",
    "Also in the boxplots I can also clearly see the outliers within these variables, with gdp being the most affected."
   ]
  },
  {
   "cell_type": "markdown",
   "id": "44ac3024-4ad1-4c1d-ad4b-0f2f89251f73",
   "metadata": {},
   "source": [
    "<h3 style=\"color: #47FF64;\"> Bivariate analysis </h3"
   ]
  },
  {
   "cell_type": "markdown",
   "id": "db6adc36-1935-4261-9f53-b9ecfe6b14dc",
   "metadata": {},
   "source": [
    "<h4 style=\"color: #47FF64;\"> Checking for correlations </h4"
   ]
  },
  {
   "cell_type": "markdown",
   "id": "37af4d12-24f5-4838-af4b-19241115ee6f",
   "metadata": {},
   "source": [
    "The main question of this analysis is if the tourism inbound and the national gdp have a strong correlation. The main question is , \"the countries with an higher gdp has a biggest tourism inbound (when one grows the other as well = pearson) or if there is no relation between those two variables?\""
   ]
  },
  {
   "cell_type": "code",
   "execution_count": 25,
   "id": "c0480c73-47e3-4caa-9ce7-ce2a8427e2e6",
   "metadata": {},
   "outputs": [
    {
     "data": {
      "text/plain": [
       "0.8729786575872057"
      ]
     },
     "execution_count": 25,
     "metadata": {},
     "output_type": "execute_result"
    }
   ],
   "source": [
    "df_clean[\"gdp\"].corr(df_clean[\"tourism_inbound\"], method=\"pearson\")"
   ]
  },
  {
   "cell_type": "code",
   "execution_count": 26,
   "id": "28f02353-b9c8-4ab8-a334-2e349fe50ca9",
   "metadata": {},
   "outputs": [
    {
     "data": {
      "text/plain": [
       "0.7003905632447935"
      ]
     },
     "execution_count": 26,
     "metadata": {},
     "output_type": "execute_result"
    }
   ],
   "source": [
    "df_clean[\"gdp\"].corr(df_clean[\"tourism_inbound\"], method=\"spearman\")"
   ]
  },
  {
   "cell_type": "markdown",
   "id": "c4773710-9033-4390-bc41-418006506cc8",
   "metadata": {},
   "source": [
    "- Insights I draw from the correlation analysis\n",
    "\n",
    "The pearson correlation is higher than the spearman which concludes that there is a strong positive linear correlation between GDP and Tourism Inbound. It means that when toursim inbound increases the gdp increases as well.\n",
    "\n",
    "Regarding the spearman correlation, it is also a strong monotonic correlation which indicates us that indeed when tourism inbound increases the gdp increases as well. However the difference is that it can grow at a different rate not in a straight line."
   ]
  },
  {
   "cell_type": "code",
   "execution_count": 27,
   "id": "0970d88d-6e6f-42ec-b834-3186fe0778a5",
   "metadata": {},
   "outputs": [
    {
     "data": {
      "text/html": [
       "<div>\n",
       "<style scoped>\n",
       "    .dataframe tbody tr th:only-of-type {\n",
       "        vertical-align: middle;\n",
       "    }\n",
       "\n",
       "    .dataframe tbody tr th {\n",
       "        vertical-align: top;\n",
       "    }\n",
       "\n",
       "    .dataframe thead th {\n",
       "        text-align: right;\n",
       "    }\n",
       "</style>\n",
       "<table border=\"1\" class=\"dataframe\">\n",
       "  <thead>\n",
       "    <tr style=\"text-align: right;\">\n",
       "      <th></th>\n",
       "      <th>gdp</th>\n",
       "      <th>population_total</th>\n",
       "      <th>tourism_inbound</th>\n",
       "      <th>tourism_outbound</th>\n",
       "      <th>year</th>\n",
       "    </tr>\n",
       "  </thead>\n",
       "  <tbody>\n",
       "    <tr>\n",
       "      <th>0</th>\n",
       "      <td>54,790,058,957.00</td>\n",
       "      <td>31719449</td>\n",
       "      <td>102,000,000.00</td>\n",
       "      <td>193,000,000.00</td>\n",
       "      <td>2000</td>\n",
       "    </tr>\n",
       "    <tr>\n",
       "      <th>1</th>\n",
       "      <td>9,129,594,819.00</td>\n",
       "      <td>13924930</td>\n",
       "      <td>34,000,000.00</td>\n",
       "      <td>146,000,000.00</td>\n",
       "      <td>2000</td>\n",
       "    </tr>\n",
       "    <tr>\n",
       "      <th>2</th>\n",
       "      <td>2,359,122,303.00</td>\n",
       "      <td>6949366</td>\n",
       "      <td>77,000,000.00</td>\n",
       "      <td>50,000,000.00</td>\n",
       "      <td>2000</td>\n",
       "    </tr>\n",
       "    <tr>\n",
       "      <th>3</th>\n",
       "      <td>5,788,311,645.00</td>\n",
       "      <td>1755375</td>\n",
       "      <td>227,000,000.00</td>\n",
       "      <td>209,000,000.00</td>\n",
       "      <td>2000</td>\n",
       "    </tr>\n",
       "    <tr>\n",
       "      <th>4</th>\n",
       "      <td>2,610,959,139.00</td>\n",
       "      <td>11607944</td>\n",
       "      <td>23,000,000.00</td>\n",
       "      <td>30,000,000.00</td>\n",
       "      <td>2000</td>\n",
       "    </tr>\n",
       "  </tbody>\n",
       "</table>\n",
       "</div>"
      ],
      "text/plain": [
       "                gdp  population_total  tourism_inbound  tourism_outbound  year\n",
       "0 54,790,058,957.00          31719449   102,000,000.00    193,000,000.00  2000\n",
       "1  9,129,594,819.00          13924930    34,000,000.00    146,000,000.00  2000\n",
       "2  2,359,122,303.00           6949366    77,000,000.00     50,000,000.00  2000\n",
       "3  5,788,311,645.00           1755375   227,000,000.00    209,000,000.00  2000\n",
       "4  2,610,959,139.00          11607944    23,000,000.00     30,000,000.00  2000"
      ]
     },
     "execution_count": 27,
     "metadata": {},
     "output_type": "execute_result"
    }
   ],
   "source": [
    "numerical.head(5)"
   ]
  },
  {
   "cell_type": "code",
   "execution_count": 28,
   "id": "52b75de3-86af-49b1-bc8f-f4fbd04ee6da",
   "metadata": {},
   "outputs": [
    {
     "data": {
      "text/plain": [
       "gdp                1.00\n",
       "tourism_inbound    0.87\n",
       "tourism_outbound   0.85\n",
       "population_total   0.38\n",
       "year               0.06\n",
       "dtype: float64"
      ]
     },
     "execution_count": 28,
     "metadata": {},
     "output_type": "execute_result"
    }
   ],
   "source": [
    "numerical.corrwith(df_clean[\"gdp\"], method=\"pearson\").sort_values(ascending=False)"
   ]
  },
  {
   "cell_type": "code",
   "execution_count": 29,
   "id": "163d5be6-27fb-41c1-a3fb-809035a92bd4",
   "metadata": {},
   "outputs": [
    {
     "data": {
      "text/html": [
       "<div>\n",
       "<style scoped>\n",
       "    .dataframe tbody tr th:only-of-type {\n",
       "        vertical-align: middle;\n",
       "    }\n",
       "\n",
       "    .dataframe tbody tr th {\n",
       "        vertical-align: top;\n",
       "    }\n",
       "\n",
       "    .dataframe thead th {\n",
       "        text-align: right;\n",
       "    }\n",
       "</style>\n",
       "<table border=\"1\" class=\"dataframe\">\n",
       "  <thead>\n",
       "    <tr style=\"text-align: right;\">\n",
       "      <th></th>\n",
       "      <th>gdp</th>\n",
       "      <th>population_total</th>\n",
       "      <th>tourism_inbound</th>\n",
       "      <th>tourism_outbound</th>\n",
       "      <th>year</th>\n",
       "    </tr>\n",
       "  </thead>\n",
       "  <tbody>\n",
       "    <tr>\n",
       "      <th>gdp</th>\n",
       "      <td>1.00</td>\n",
       "      <td>0.38</td>\n",
       "      <td>0.87</td>\n",
       "      <td>0.85</td>\n",
       "      <td>0.06</td>\n",
       "    </tr>\n",
       "    <tr>\n",
       "      <th>population_total</th>\n",
       "      <td>0.38</td>\n",
       "      <td>1.00</td>\n",
       "      <td>0.30</td>\n",
       "      <td>0.32</td>\n",
       "      <td>0.01</td>\n",
       "    </tr>\n",
       "    <tr>\n",
       "      <th>tourism_inbound</th>\n",
       "      <td>0.87</td>\n",
       "      <td>0.30</td>\n",
       "      <td>1.00</td>\n",
       "      <td>0.86</td>\n",
       "      <td>0.09</td>\n",
       "    </tr>\n",
       "    <tr>\n",
       "      <th>tourism_outbound</th>\n",
       "      <td>0.85</td>\n",
       "      <td>0.32</td>\n",
       "      <td>0.86</td>\n",
       "      <td>1.00</td>\n",
       "      <td>0.08</td>\n",
       "    </tr>\n",
       "    <tr>\n",
       "      <th>year</th>\n",
       "      <td>0.06</td>\n",
       "      <td>0.01</td>\n",
       "      <td>0.09</td>\n",
       "      <td>0.08</td>\n",
       "      <td>1.00</td>\n",
       "    </tr>\n",
       "  </tbody>\n",
       "</table>\n",
       "</div>"
      ],
      "text/plain": [
       "                  gdp  population_total  tourism_inbound  tourism_outbound  \\\n",
       "gdp              1.00              0.38             0.87              0.85   \n",
       "population_total 0.38              1.00             0.30              0.32   \n",
       "tourism_inbound  0.87              0.30             1.00              0.86   \n",
       "tourism_outbound 0.85              0.32             0.86              1.00   \n",
       "year             0.06              0.01             0.09              0.08   \n",
       "\n",
       "                  year  \n",
       "gdp               0.06  \n",
       "population_total  0.01  \n",
       "tourism_inbound   0.09  \n",
       "tourism_outbound  0.08  \n",
       "year              1.00  "
      ]
     },
     "execution_count": 29,
     "metadata": {},
     "output_type": "execute_result"
    }
   ],
   "source": [
    "correlation_matrix= numerical.corr()\n",
    "correlation_matrix"
   ]
  },
  {
   "cell_type": "markdown",
   "id": "d09bb269-882c-4e12-9a84-56dfc850517a",
   "metadata": {},
   "source": [
    "I can conclude that tourism_inbound has the strongest correlation with gdp followed by tourism_outbound indicating that when these variables increase the GDP increases as well.\n",
    "Population_total have a moderate positive correlation and year has a weak correlation. There are no negative correlations within these variables therefore there are no variables that will decrease when gdp increases and vice-versa.\n"
   ]
  },
  {
   "cell_type": "markdown",
   "id": "7f553030-b0d1-42c9-a334-a9519fa8ac02",
   "metadata": {},
   "source": [
    "<h4 style=\"color: #47FF64;\"> Representation with an heatmap </h4"
   ]
  },
  {
   "cell_type": "markdown",
   "id": "6fbc83c5-27b8-41f3-b951-76a119f948ba",
   "metadata": {},
   "source": [
    "In this heatmap I will be representing the correlations analysed above, as well the multicollinearity between tourism_inbound and tourism_outbound"
   ]
  },
  {
   "cell_type": "code",
   "execution_count": 30,
   "id": "97440b5f-7d1d-4994-9627-496a2d286a98",
   "metadata": {},
   "outputs": [
    {
     "data": {
      "image/png": "[encoded data removed]",
      "text/plain": [
       "<Figure size 500x500 with 2 Axes>"
      ]
     },
     "metadata": {},
     "output_type": "display_data"
    }
   ],
   "source": [
    "plt.figure(figsize=(5, 5))\n",
    "sns.heatmap(correlation_matrix, annot=True, cmap=\"coolwarm\")\n",
    "plt.title(\"Correlation Representation Heatmap\")\n",
    "plt.show()"
   ]
  },
  {
   "cell_type": "markdown",
   "id": "52cec15c-d45b-4bf7-8066-57466e870801",
   "metadata": {},
   "source": [
    "<h4 style=\"color: #47FF64;\"> Representation with an heatmap- Spearman </h4"
   ]
  },
  {
   "cell_type": "code",
   "execution_count": 31,
   "id": "720faaad-bc4a-4201-93de-467566b9ec61",
   "metadata": {},
   "outputs": [
    {
     "data": {
      "text/plain": [
       "gdp                1.00\n",
       "tourism_outbound   0.74\n",
       "tourism_inbound    0.70\n",
       "population_total   0.55\n",
       "year               0.18\n",
       "dtype: float64"
      ]
     },
     "execution_count": 31,
     "metadata": {},
     "output_type": "execute_result"
    }
   ],
   "source": [
    "numerical.corrwith(df_clean[\"gdp\"], method=\"spearman\").sort_values(ascending=False)"
   ]
  },
  {
   "cell_type": "code",
   "execution_count": 32,
   "id": "3ca25cee-70b7-4c65-bbd5-a6c6bb455df5",
   "metadata": {},
   "outputs": [
    {
     "data": {
      "text/html": [
       "<div>\n",
       "<style scoped>\n",
       "    .dataframe tbody tr th:only-of-type {\n",
       "        vertical-align: middle;\n",
       "    }\n",
       "\n",
       "    .dataframe tbody tr th {\n",
       "        vertical-align: top;\n",
       "    }\n",
       "\n",
       "    .dataframe thead th {\n",
       "        text-align: right;\n",
       "    }\n",
       "</style>\n",
       "<table border=\"1\" class=\"dataframe\">\n",
       "  <thead>\n",
       "    <tr style=\"text-align: right;\">\n",
       "      <th></th>\n",
       "      <th>gdp</th>\n",
       "      <th>population_total</th>\n",
       "      <th>tourism_inbound</th>\n",
       "      <th>tourism_outbound</th>\n",
       "      <th>year</th>\n",
       "    </tr>\n",
       "  </thead>\n",
       "  <tbody>\n",
       "    <tr>\n",
       "      <th>gdp</th>\n",
       "      <td>1.00</td>\n",
       "      <td>0.55</td>\n",
       "      <td>0.70</td>\n",
       "      <td>0.74</td>\n",
       "      <td>0.18</td>\n",
       "    </tr>\n",
       "    <tr>\n",
       "      <th>population_total</th>\n",
       "      <td>0.55</td>\n",
       "      <td>1.00</td>\n",
       "      <td>0.27</td>\n",
       "      <td>0.35</td>\n",
       "      <td>0.03</td>\n",
       "    </tr>\n",
       "    <tr>\n",
       "      <th>tourism_inbound</th>\n",
       "      <td>0.70</td>\n",
       "      <td>0.27</td>\n",
       "      <td>1.00</td>\n",
       "      <td>0.87</td>\n",
       "      <td>0.16</td>\n",
       "    </tr>\n",
       "    <tr>\n",
       "      <th>tourism_outbound</th>\n",
       "      <td>0.74</td>\n",
       "      <td>0.35</td>\n",
       "      <td>0.87</td>\n",
       "      <td>1.00</td>\n",
       "      <td>0.11</td>\n",
       "    </tr>\n",
       "    <tr>\n",
       "      <th>year</th>\n",
       "      <td>0.18</td>\n",
       "      <td>0.03</td>\n",
       "      <td>0.16</td>\n",
       "      <td>0.11</td>\n",
       "      <td>1.00</td>\n",
       "    </tr>\n",
       "  </tbody>\n",
       "</table>\n",
       "</div>"
      ],
      "text/plain": [
       "                  gdp  population_total  tourism_inbound  tourism_outbound  \\\n",
       "gdp              1.00              0.55             0.70              0.74   \n",
       "population_total 0.55              1.00             0.27              0.35   \n",
       "tourism_inbound  0.70              0.27             1.00              0.87   \n",
       "tourism_outbound 0.74              0.35             0.87              1.00   \n",
       "year             0.18              0.03             0.16              0.11   \n",
       "\n",
       "                  year  \n",
       "gdp               0.18  \n",
       "population_total  0.03  \n",
       "tourism_inbound   0.16  \n",
       "tourism_outbound  0.11  \n",
       "year              1.00  "
      ]
     },
     "execution_count": 32,
     "metadata": {},
     "output_type": "execute_result"
    }
   ],
   "source": [
    "correlation_matrix_s= numerical.corr(method=\"spearman\")\n",
    "correlation_matrix_s"
   ]
  },
  {
   "cell_type": "code",
   "execution_count": 33,
   "id": "e41297c8-6e8b-4997-8bb6-b681e5a79e5c",
   "metadata": {},
   "outputs": [
    {
     "data": {
      "image/png": "[encoded data removed]",
      "text/plain": [
       "<Figure size 500x500 with 2 Axes>"
      ]
     },
     "metadata": {},
     "output_type": "display_data"
    }
   ],
   "source": [
    "plt.figure(figsize=(5, 5))\n",
    "sns.heatmap(correlation_matrix_s, annot=True, cmap=\"coolwarm\")\n",
    "plt.title(\"Spearman Correlation Representation Heatmap\")\n",
    "plt.show()"
   ]
  },
  {
   "cell_type": "markdown",
   "id": "428946a7-ea2d-4ae2-9b74-2737738f1610",
   "metadata": {},
   "source": [
    "<h4 style=\"color: #47FF64;\"> Scatterplots visualizations </h4"
   ]
  },
  {
   "cell_type": "code",
   "execution_count": 34,
   "id": "89a8676a-183e-4ae2-becf-d0b38df0f6f7",
   "metadata": {},
   "outputs": [
    {
     "data": {
      "image/png": "[encoded data removed]",
      "text/plain": [
       "<Figure size 500x500 with 1 Axes>"
      ]
     },
     "metadata": {},
     "output_type": "display_data"
    }
   ],
   "source": [
    "sns.lmplot(data=df_clean,\n",
    "            x='tourism_inbound',\n",
    "            y='gdp')\n",
    "plt.show()"
   ]
  },
  {
   "cell_type": "markdown",
   "id": "fd0f55a4-5aaf-48b7-a090-27d1aa2639ac",
   "metadata": {},
   "source": [
    "This visualization shows clearly the extreme outliers in this data set, as explained before in this analysis"
   ]
  },
  {
   "cell_type": "markdown",
   "id": "23ebae4b-ba85-4679-9800-cee809bb7aad",
   "metadata": {},
   "source": [
    "<h4 style=\"color: #47FF64;\"> Pairplot Visualization between Tourism_inbound VS GDP </h4"
   ]
  },
  {
   "cell_type": "code",
   "execution_count": 35,
   "id": "be31aaa7-16e7-4702-9c29-d425e71286a2",
   "metadata": {},
   "outputs": [
    {
     "data": {
      "image/png": "[encoded data removed]",
      "text/plain": [
       "<Figure size 500x500 with 6 Axes>"
      ]
     },
     "metadata": {},
     "output_type": "display_data"
    }
   ],
   "source": [
    "sns.pairplot(df_clean[[\"tourism_inbound\", \"gdp\"]])\n",
    "plt.show()"
   ]
  },
  {
   "cell_type": "markdown",
   "id": "85e40424-7595-4e48-8d5d-13bc68c7323e",
   "metadata": {},
   "source": [
    "<h4 style=\"color: #47FF64;\"> Evolution over the years </h4"
   ]
  },
  {
   "cell_type": "code",
   "execution_count": 36,
   "id": "86ed543c-b1d7-48f9-881e-f25677764faf",
   "metadata": {},
   "outputs": [
    {
     "data": {
      "image/png": "[encoded data removed]",
      "text/plain": [
       "<Figure size 1400x700 with 2 Axes>"
      ]
     },
     "metadata": {},
     "output_type": "display_data"
    }
   ],
   "source": [
    "fig, ax1 = plt.subplots(figsize=(14, 7))\n",
    "\n",
    "# Plot GDP on the first y-axis\n",
    "sns.lineplot(data=df_clean, x='year', y='gdp', ax=ax1, color='b', label='GDP')\n",
    "ax1.set_ylabel('GDP', color='b')\n",
    "ax1.tick_params(axis='y', labelcolor='b')\n",
    "\n",
    "ax2 = ax1.twinx()\n",
    "sns.lineplot(data=df_clean, x='year', y='tourism_inbound', ax=ax2, color='g', label='Tourism Inbound')\n",
    "ax2.set_ylabel('Tourism Inbound', color='g')\n",
    "ax2.tick_params(axis='y', labelcolor='g')\n",
    "\n",
    "plt.title('Evolution of GDP and Tourism Inbound over the Years')\n",
    "plt.grid(True, which='both', linestyle='--', linewidth=0.5)\n",
    "\n",
    "# Show legend for both axes\n",
    "ax1.legend(loc='upper left')\n",
    "ax2.legend(loc='upper right')\n",
    "\n",
    "plt.show()"
   ]
  },
  {
   "cell_type": "markdown",
   "id": "22d19413-01b6-4dc4-b682-03cf630cf33b",
   "metadata": {},
   "source": [
    "- Insights I draw from the line plot\n",
    "\n",
    "The plot shows a clear positive correlation between GDP and tourism inbound over the years. As tourism grows, so does GDP, indicating that the tourism sector is likely driving economic growth. The relationship appears to be largely linear, with both variables increasing steadily.\n",
    "\n",
    "This trend suggests that tourism plays a significant role in boosting the economy, with its growth directly contributing to higher GDP. The consistent upward movement in both indicators highlights the interdependence between tourism and economic performance."
   ]
  },
  {
   "cell_type": "markdown",
   "id": "eaabb8c8-69ae-416a-9b28-ab50a13d3814",
   "metadata": {},
   "source": [
    "<h4 style=\"color: #47FF64;\"> Hypothesis Testing </h4"
   ]
  },
  {
   "cell_type": "markdown",
   "id": "e185c068-c153-43d8-917b-c3549f219024",
   "metadata": {},
   "source": [
    "- This is the hypothesis I am testing:\n",
    "\n",
    "Null Hypothesis (H₀): \"The mean GDP of the high inbound tourism group is equal to or less than that of the low inbound tourism group\"\n",
    "\n",
    "Alternative Hypothesis (H₁): \"The mean GDP of the high inbound tourism group is greater than that of the low inbound tourism group\""
   ]
  },
  {
   "cell_type": "code",
   "execution_count": 37,
   "id": "19a6a9a9-41b0-4081-9864-ab8fcc3e2fd9",
   "metadata": {},
   "outputs": [],
   "source": [
    "import math\n",
    "import pandas as pd\n",
    "import numpy as np\n",
    "import matplotlib.pyplot as plt\n",
    "import scipy.stats as st\n",
    "import statsmodels.api as sm\n",
    "import statsmodels.formula.api as smf"
   ]
  },
  {
   "cell_type": "code",
   "execution_count": 38,
   "id": "199bd6f1-2a54-4af6-8f6a-b45da8a9a139",
   "metadata": {},
   "outputs": [],
   "source": [
    "#two tail t-test\n",
    "alpha= 0.05"
   ]
  },
  {
   "cell_type": "markdown",
   "id": "9342143e-efeb-4bf8-8a25-8a6783159146",
   "metadata": {},
   "source": [
    "In order to proceed with the two sample t-test i will start by splitting the data in two groups. One group with \"high\" inbound tourism revenue and another with \"low\" inbound tourism revenue."
   ]
  },
  {
   "cell_type": "code",
   "execution_count": 39,
   "id": "95601f51-939a-41d9-8efa-881ab92a2889",
   "metadata": {},
   "outputs": [],
   "source": [
    "median_value = df_clean['tourism_inbound'].median()\n",
    "countries_high = df_clean[df_clean['tourism_inbound'] > median_value]['gdp']\n",
    "countries_low = df_clean[df_clean['tourism_inbound'] <= median_value]['gdp']"
   ]
  },
  {
   "cell_type": "code",
   "execution_count": 40,
   "id": "f3a11654-508d-425d-8d16-bfda10e338b0",
   "metadata": {},
   "outputs": [
    {
     "name": "stdout",
     "output_type": "stream",
     "text": [
      "Test Statistic (t): 11.44\n",
      "P-Value: 0.0000000000000000000000000000267645\n",
      "\n",
      "Reject the Null Hypothesis: There is evidence to support that the mean GDP is greater in countries with high inbound tourism.\n"
     ]
    }
   ],
   "source": [
    "t_stat, p_value = st.ttest_ind(countries_high, countries_low, equal_var=False, alternative= \"greater\")\n",
    "print(f\"Test Statistic (t): {t_stat:.2f}\")\n",
    "print(f\"P-Value: {p_value:.34f}\")\n",
    "print()\n",
    "if p_value > alpha:\n",
    "    print(\"Fail to Reject the Null Hypothesis: Not enough evidence to support that the mean GDP is greater in countries with high inbound tourism.\")\n",
    "else:\n",
    "    print(\"Reject the Null Hypothesis: There is evidence to support that the mean GDP is greater in countries with high inbound tourism.\")"
   ]
  },
  {
   "cell_type": "markdown",
   "id": "6e9bbb7a-75a4-4576-a5c9-14b89f7ac548",
   "metadata": {},
   "source": [
    "----------------------------------------------------------------------------------\n",
    "\n",
    "Upon checking the results I can conclude that since the p-value is extremely close to zero, it indicates strong evidence against the null hypothesis.\n",
    "\n",
    "This means that I reject the null hypothesis.\n",
    "\n",
    "There is significant evidence suggesting that the mean GDP is indeed greater in countries with high inbound tourism revenue."
   ]
  },
  {
   "cell_type": "markdown",
   "id": "410c594b-e483-4a58-ac46-35fc08ac4665",
   "metadata": {},
   "source": [
    "This result suggests a positive impact of high inbound tourism revenue on GDP, implying that initiatives to boost tourism could be beneficial for economic growth."
   ]
  },
  {
   "cell_type": "markdown",
   "id": "1b36fd81-b0be-4da3-b89f-943cc9e4dbe5",
   "metadata": {},
   "source": [
    "<h1 style=\"color: #47FF64;\">04 | Machine Learning</h1>"
   ]
  },
  {
   "cell_type": "code",
   "execution_count": 41,
   "id": "1104993f-fc30-48a2-841a-75f9b065c801",
   "metadata": {},
   "outputs": [],
   "source": [
    "df_ml= df_clean.copy()"
   ]
  },
  {
   "cell_type": "code",
   "execution_count": 42,
   "id": "4c0b96ac-f311-4260-ae45-35183967ad3c",
   "metadata": {},
   "outputs": [],
   "source": [
    "df_ml.drop(columns=[\"year\",\"country\"],inplace=True) #dropping unecessary columns"
   ]
  },
  {
   "cell_type": "code",
   "execution_count": 43,
   "id": "5e543eda-87ec-4c24-aeca-377997e27b5f",
   "metadata": {},
   "outputs": [],
   "source": [
    "import pandas as pd\n",
    "import numpy as np\n",
    "\n",
    "df_encoded = pd.get_dummies(df_ml, columns=['region'], drop_first=True) #to drop the region column after"
   ]
  },
  {
   "cell_type": "code",
   "execution_count": 44,
   "id": "0f717a2a-d6e0-452f-b698-57b507b2eb89",
   "metadata": {},
   "outputs": [
    {
     "data": {
      "text/plain": [
       "['high',\n",
       " 'high',\n",
       " 'high',\n",
       " 'high',\n",
       " 'high',\n",
       " 'high',\n",
       " 'high',\n",
       " 'high',\n",
       " 'high',\n",
       " 'high',\n",
       " 'high',\n",
       " 'high',\n",
       " 'high',\n",
       " 'high',\n",
       " 'high',\n",
       " 'high',\n",
       " 'high',\n",
       " 'high',\n",
       " 'high',\n",
       " 'high',\n",
       " 'high',\n",
       " 'high',\n",
       " 'high',\n",
       " 'high',\n",
       " 'high',\n",
       " 'high',\n",
       " 'high',\n",
       " 'high',\n",
       " 'high',\n",
       " 'high',\n",
       " 'high',\n",
       " 'high',\n",
       " 'high',\n",
       " 'high',\n",
       " 'high',\n",
       " 'high',\n",
       " 'high',\n",
       " 'high',\n",
       " 'high',\n",
       " 'high',\n",
       " 'high',\n",
       " 'high',\n",
       " 'high',\n",
       " 'high',\n",
       " 'high',\n",
       " 'high',\n",
       " 'high',\n",
       " 'high',\n",
       " 'high',\n",
       " 'high',\n",
       " 'high',\n",
       " 'high',\n",
       " 'high',\n",
       " 'low',\n",
       " 'high',\n",
       " 'high',\n",
       " 'high',\n",
       " 'high',\n",
       " 'high',\n",
       " 'high',\n",
       " 'low',\n",
       " 'high',\n",
       " 'high',\n",
       " 'low',\n",
       " 'high',\n",
       " 'low',\n",
       " 'high',\n",
       " 'low',\n",
       " 'low',\n",
       " 'high',\n",
       " 'high',\n",
       " 'high',\n",
       " 'high',\n",
       " 'high',\n",
       " 'high',\n",
       " 'low',\n",
       " 'high',\n",
       " 'high',\n",
       " 'high',\n",
       " 'high',\n",
       " 'high',\n",
       " 'high',\n",
       " 'high',\n",
       " 'high',\n",
       " 'high',\n",
       " 'high',\n",
       " 'high',\n",
       " 'high',\n",
       " 'high',\n",
       " 'high',\n",
       " 'high',\n",
       " 'high',\n",
       " 'high',\n",
       " 'high',\n",
       " 'high',\n",
       " 'high',\n",
       " 'high',\n",
       " 'high',\n",
       " 'high',\n",
       " 'high',\n",
       " 'high',\n",
       " 'low',\n",
       " 'low',\n",
       " 'high',\n",
       " 'high',\n",
       " 'high',\n",
       " 'high',\n",
       " 'high',\n",
       " 'low',\n",
       " 'high',\n",
       " 'high',\n",
       " 'high',\n",
       " 'high',\n",
       " 'high',\n",
       " 'high',\n",
       " 'high',\n",
       " 'high',\n",
       " 'high',\n",
       " 'high',\n",
       " 'low',\n",
       " 'high',\n",
       " 'high',\n",
       " 'high',\n",
       " 'high',\n",
       " 'high',\n",
       " 'high',\n",
       " 'high',\n",
       " 'high',\n",
       " 'high',\n",
       " 'low',\n",
       " 'high',\n",
       " 'high',\n",
       " 'low',\n",
       " 'high',\n",
       " 'low',\n",
       " 'high',\n",
       " 'high',\n",
       " 'high',\n",
       " 'high',\n",
       " 'high',\n",
       " 'high',\n",
       " 'high',\n",
       " 'high',\n",
       " 'high',\n",
       " 'high',\n",
       " 'high',\n",
       " 'high',\n",
       " 'high',\n",
       " 'high',\n",
       " 'low',\n",
       " 'high',\n",
       " 'high',\n",
       " 'high',\n",
       " 'high',\n",
       " 'high',\n",
       " 'high',\n",
       " 'high',\n",
       " 'high',\n",
       " 'high',\n",
       " 'high',\n",
       " 'high',\n",
       " 'high',\n",
       " 'high',\n",
       " 'high',\n",
       " 'low',\n",
       " 'high',\n",
       " 'high',\n",
       " 'high',\n",
       " 'high',\n",
       " 'high',\n",
       " 'high',\n",
       " 'low',\n",
       " 'low',\n",
       " 'low',\n",
       " 'high',\n",
       " 'high',\n",
       " 'high',\n",
       " 'high',\n",
       " 'low',\n",
       " 'high',\n",
       " 'high',\n",
       " 'high',\n",
       " 'high',\n",
       " 'high',\n",
       " 'high',\n",
       " 'high',\n",
       " 'high',\n",
       " 'high',\n",
       " 'high',\n",
       " 'high',\n",
       " 'low',\n",
       " 'high',\n",
       " 'high',\n",
       " 'high',\n",
       " 'high',\n",
       " 'high',\n",
       " 'low',\n",
       " 'high',\n",
       " 'high',\n",
       " 'low',\n",
       " 'high',\n",
       " 'high',\n",
       " 'high',\n",
       " 'low',\n",
       " 'low',\n",
       " 'high',\n",
       " 'high',\n",
       " 'low',\n",
       " 'high',\n",
       " 'high',\n",
       " 'high',\n",
       " 'high',\n",
       " 'high',\n",
       " 'high',\n",
       " 'high',\n",
       " 'high',\n",
       " 'high',\n",
       " 'high',\n",
       " 'high',\n",
       " 'high',\n",
       " 'high',\n",
       " 'high',\n",
       " 'high',\n",
       " 'high',\n",
       " 'high',\n",
       " 'high',\n",
       " 'high',\n",
       " 'high',\n",
       " 'high',\n",
       " 'high',\n",
       " 'high',\n",
       " 'high',\n",
       " 'high',\n",
       " 'high',\n",
       " 'high',\n",
       " 'high',\n",
       " 'high',\n",
       " 'high',\n",
       " 'high',\n",
       " 'high',\n",
       " 'high',\n",
       " 'high',\n",
       " 'high',\n",
       " 'high',\n",
       " 'high',\n",
       " 'high',\n",
       " 'high',\n",
       " 'high',\n",
       " 'high',\n",
       " 'high',\n",
       " 'high',\n",
       " 'high',\n",
       " 'high',\n",
       " 'high',\n",
       " 'high',\n",
       " 'high',\n",
       " 'high',\n",
       " 'high',\n",
       " 'high',\n",
       " 'high',\n",
       " 'high',\n",
       " 'high',\n",
       " 'high',\n",
       " 'high',\n",
       " 'high',\n",
       " 'high',\n",
       " 'high',\n",
       " 'high',\n",
       " 'low',\n",
       " 'high',\n",
       " 'high',\n",
       " 'low',\n",
       " 'high',\n",
       " 'low',\n",
       " 'high',\n",
       " 'low',\n",
       " 'low',\n",
       " 'high',\n",
       " 'high',\n",
       " 'high',\n",
       " 'high',\n",
       " 'high',\n",
       " 'high',\n",
       " 'low',\n",
       " 'high',\n",
       " 'high',\n",
       " 'high',\n",
       " 'high',\n",
       " 'high',\n",
       " 'high',\n",
       " 'high',\n",
       " 'high',\n",
       " 'high',\n",
       " 'high',\n",
       " 'high',\n",
       " 'high',\n",
       " 'high',\n",
       " 'high',\n",
       " 'high',\n",
       " 'high',\n",
       " 'high',\n",
       " 'high',\n",
       " 'high',\n",
       " 'high',\n",
       " 'high',\n",
       " 'high',\n",
       " 'high',\n",
       " 'high',\n",
       " 'high',\n",
       " 'low',\n",
       " 'low',\n",
       " 'high',\n",
       " 'high',\n",
       " 'high',\n",
       " 'high',\n",
       " 'high',\n",
       " 'low',\n",
       " 'high',\n",
       " 'high',\n",
       " 'high',\n",
       " 'high',\n",
       " 'high',\n",
       " 'high',\n",
       " 'high',\n",
       " 'high',\n",
       " 'high',\n",
       " 'high',\n",
       " 'low',\n",
       " 'high',\n",
       " 'high',\n",
       " 'high',\n",
       " 'high',\n",
       " 'low',\n",
       " 'high',\n",
       " 'high',\n",
       " 'high',\n",
       " 'high',\n",
       " 'low',\n",
       " 'high',\n",
       " 'high',\n",
       " 'high',\n",
       " 'high',\n",
       " 'low',\n",
       " 'high',\n",
       " 'high',\n",
       " 'high',\n",
       " 'high',\n",
       " 'high',\n",
       " 'high',\n",
       " 'high',\n",
       " 'high',\n",
       " 'high',\n",
       " 'high',\n",
       " 'high',\n",
       " 'high',\n",
       " 'high',\n",
       " 'high',\n",
       " 'low',\n",
       " 'high',\n",
       " 'high',\n",
       " 'high',\n",
       " 'high',\n",
       " 'high',\n",
       " 'high',\n",
       " 'high',\n",
       " 'high',\n",
       " 'high',\n",
       " 'high',\n",
       " 'high',\n",
       " 'high',\n",
       " 'high',\n",
       " 'high',\n",
       " 'low',\n",
       " 'high',\n",
       " 'high',\n",
       " 'high',\n",
       " 'high',\n",
       " 'high',\n",
       " 'high',\n",
       " 'low',\n",
       " 'low',\n",
       " 'low',\n",
       " 'high',\n",
       " 'high',\n",
       " 'high',\n",
       " 'high',\n",
       " 'low',\n",
       " 'high',\n",
       " 'high',\n",
       " 'high',\n",
       " 'high',\n",
       " 'high',\n",
       " 'high',\n",
       " 'high',\n",
       " 'high',\n",
       " 'high',\n",
       " 'high',\n",
       " 'high',\n",
       " 'low',\n",
       " 'high',\n",
       " 'high',\n",
       " 'high',\n",
       " 'high',\n",
       " 'high',\n",
       " 'low',\n",
       " 'high',\n",
       " 'high',\n",
       " 'low',\n",
       " 'high',\n",
       " 'high',\n",
       " 'high',\n",
       " 'low',\n",
       " 'low',\n",
       " 'high',\n",
       " 'high',\n",
       " 'low',\n",
       " 'high',\n",
       " 'high',\n",
       " 'high',\n",
       " 'high',\n",
       " 'high',\n",
       " 'high',\n",
       " 'high',\n",
       " 'high',\n",
       " 'high',\n",
       " 'high',\n",
       " 'high',\n",
       " 'high',\n",
       " 'high',\n",
       " 'high',\n",
       " 'high',\n",
       " 'high',\n",
       " 'high',\n",
       " 'high',\n",
       " 'high',\n",
       " 'high',\n",
       " 'high',\n",
       " 'high',\n",
       " 'high',\n",
       " 'high',\n",
       " 'high',\n",
       " 'high',\n",
       " 'high',\n",
       " 'high',\n",
       " 'high',\n",
       " 'high',\n",
       " 'high',\n",
       " 'high',\n",
       " 'high',\n",
       " 'high',\n",
       " 'high',\n",
       " 'high',\n",
       " 'high',\n",
       " 'high',\n",
       " 'high',\n",
       " 'high',\n",
       " 'high',\n",
       " 'high',\n",
       " 'high',\n",
       " 'high',\n",
       " 'high',\n",
       " 'high',\n",
       " 'high',\n",
       " 'high',\n",
       " 'high',\n",
       " 'high',\n",
       " 'high',\n",
       " 'high',\n",
       " 'high',\n",
       " 'high',\n",
       " 'high',\n",
       " 'high',\n",
       " 'high',\n",
       " 'high',\n",
       " 'high',\n",
       " 'high',\n",
       " 'low',\n",
       " 'high',\n",
       " 'high',\n",
       " 'low',\n",
       " 'high',\n",
       " 'low',\n",
       " 'high',\n",
       " 'low',\n",
       " 'low',\n",
       " 'high',\n",
       " 'high',\n",
       " 'high',\n",
       " 'high',\n",
       " 'high',\n",
       " 'high',\n",
       " 'low',\n",
       " 'high',\n",
       " 'high',\n",
       " 'high',\n",
       " 'high',\n",
       " 'high',\n",
       " 'high',\n",
       " 'high',\n",
       " 'high',\n",
       " 'high',\n",
       " 'high',\n",
       " 'high',\n",
       " 'high',\n",
       " 'high',\n",
       " 'high',\n",
       " 'high',\n",
       " 'high',\n",
       " 'high',\n",
       " 'high',\n",
       " 'high',\n",
       " 'high',\n",
       " 'high',\n",
       " 'high',\n",
       " 'high',\n",
       " 'high',\n",
       " 'high',\n",
       " 'low',\n",
       " 'low',\n",
       " 'high',\n",
       " 'high',\n",
       " 'high',\n",
       " 'high',\n",
       " 'high',\n",
       " 'low',\n",
       " 'high',\n",
       " 'high',\n",
       " 'high',\n",
       " 'high',\n",
       " 'high',\n",
       " 'high',\n",
       " 'high',\n",
       " 'high',\n",
       " 'high',\n",
       " 'high',\n",
       " 'low',\n",
       " 'high',\n",
       " 'high',\n",
       " 'high',\n",
       " 'high',\n",
       " 'low',\n",
       " 'high',\n",
       " 'high',\n",
       " 'high',\n",
       " 'high',\n",
       " 'low',\n",
       " 'high',\n",
       " 'low',\n",
       " 'high',\n",
       " 'high',\n",
       " 'low',\n",
       " 'high',\n",
       " 'high',\n",
       " 'high',\n",
       " 'high',\n",
       " 'high',\n",
       " 'high',\n",
       " 'high',\n",
       " 'high',\n",
       " 'high',\n",
       " 'high',\n",
       " 'high',\n",
       " 'high',\n",
       " 'high',\n",
       " 'high',\n",
       " 'low',\n",
       " 'high',\n",
       " 'high',\n",
       " 'high',\n",
       " 'high',\n",
       " 'high',\n",
       " 'high',\n",
       " 'high',\n",
       " 'high',\n",
       " 'high',\n",
       " 'high',\n",
       " 'high',\n",
       " 'high',\n",
       " 'high',\n",
       " 'high',\n",
       " 'high',\n",
       " 'high',\n",
       " 'high',\n",
       " 'high',\n",
       " 'high',\n",
       " 'high',\n",
       " 'high',\n",
       " 'low',\n",
       " 'low',\n",
       " 'low',\n",
       " 'high',\n",
       " 'high',\n",
       " 'high',\n",
       " 'high',\n",
       " 'low',\n",
       " 'high',\n",
       " 'high',\n",
       " 'high',\n",
       " 'high',\n",
       " 'high',\n",
       " 'high',\n",
       " 'high',\n",
       " 'high',\n",
       " 'high',\n",
       " 'high',\n",
       " 'high',\n",
       " 'low',\n",
       " 'high',\n",
       " 'high',\n",
       " 'high',\n",
       " 'high',\n",
       " 'high',\n",
       " 'low',\n",
       " 'high',\n",
       " 'high',\n",
       " 'low',\n",
       " 'high',\n",
       " 'high',\n",
       " 'high',\n",
       " 'low',\n",
       " 'low',\n",
       " 'high',\n",
       " 'high',\n",
       " 'low',\n",
       " 'high',\n",
       " 'high',\n",
       " 'high',\n",
       " 'high',\n",
       " 'high',\n",
       " 'high',\n",
       " 'high',\n",
       " 'high',\n",
       " 'high',\n",
       " 'high',\n",
       " 'high',\n",
       " 'high',\n",
       " 'high',\n",
       " 'high',\n",
       " 'high',\n",
       " 'high',\n",
       " 'high',\n",
       " 'high',\n",
       " 'high',\n",
       " 'high',\n",
       " 'high',\n",
       " 'high',\n",
       " 'high',\n",
       " 'high',\n",
       " 'high',\n",
       " 'high',\n",
       " 'high',\n",
       " 'high',\n",
       " 'high',\n",
       " 'high',\n",
       " 'high',\n",
       " 'high',\n",
       " 'high',\n",
       " 'high',\n",
       " 'high',\n",
       " 'high',\n",
       " 'high',\n",
       " 'high',\n",
       " 'high',\n",
       " 'high',\n",
       " 'high',\n",
       " 'high',\n",
       " 'high',\n",
       " 'high',\n",
       " 'high',\n",
       " 'high',\n",
       " 'high',\n",
       " 'high',\n",
       " 'high',\n",
       " 'high',\n",
       " 'high',\n",
       " 'high',\n",
       " 'high',\n",
       " 'high',\n",
       " 'high',\n",
       " 'high',\n",
       " 'high',\n",
       " 'high',\n",
       " 'high',\n",
       " 'high',\n",
       " 'low',\n",
       " 'high',\n",
       " 'high',\n",
       " 'low',\n",
       " 'high',\n",
       " 'low',\n",
       " 'high',\n",
       " 'low',\n",
       " 'low',\n",
       " 'high',\n",
       " 'high',\n",
       " 'high',\n",
       " 'high',\n",
       " 'high',\n",
       " 'high',\n",
       " 'low',\n",
       " 'high',\n",
       " 'high',\n",
       " 'high',\n",
       " 'high',\n",
       " 'high',\n",
       " 'high',\n",
       " 'high',\n",
       " 'high',\n",
       " 'high',\n",
       " 'high',\n",
       " 'high',\n",
       " 'high',\n",
       " 'high',\n",
       " 'high',\n",
       " 'high',\n",
       " 'low',\n",
       " 'high',\n",
       " 'high',\n",
       " 'high',\n",
       " 'high',\n",
       " 'high',\n",
       " 'high',\n",
       " 'high',\n",
       " 'high',\n",
       " 'high',\n",
       " 'low',\n",
       " 'low',\n",
       " 'high',\n",
       " 'high',\n",
       " 'high',\n",
       " 'high',\n",
       " 'high',\n",
       " 'low',\n",
       " 'high',\n",
       " 'high',\n",
       " 'high',\n",
       " 'high',\n",
       " 'high',\n",
       " 'high',\n",
       " 'high',\n",
       " 'high',\n",
       " 'high',\n",
       " 'high',\n",
       " 'low',\n",
       " 'high',\n",
       " 'high',\n",
       " 'high',\n",
       " 'high',\n",
       " 'low',\n",
       " 'high',\n",
       " 'high',\n",
       " 'high',\n",
       " 'high',\n",
       " 'low',\n",
       " 'low',\n",
       " 'low',\n",
       " 'low',\n",
       " 'high',\n",
       " 'low',\n",
       " 'high',\n",
       " 'high',\n",
       " 'high',\n",
       " 'high',\n",
       " 'high',\n",
       " 'high',\n",
       " 'high',\n",
       " 'high',\n",
       " 'high',\n",
       " 'high',\n",
       " 'high',\n",
       " 'high',\n",
       " 'high',\n",
       " 'high',\n",
       " 'low',\n",
       " 'high',\n",
       " 'high',\n",
       " 'high',\n",
       " 'high',\n",
       " 'high',\n",
       " 'high',\n",
       " 'high',\n",
       " 'high',\n",
       " 'high',\n",
       " 'high',\n",
       " 'high',\n",
       " 'high',\n",
       " 'high',\n",
       " 'high',\n",
       " 'high',\n",
       " 'high',\n",
       " 'high',\n",
       " 'high',\n",
       " 'high',\n",
       " 'high',\n",
       " 'high',\n",
       " 'low',\n",
       " 'low',\n",
       " 'low',\n",
       " 'high',\n",
       " 'high',\n",
       " 'high',\n",
       " 'high',\n",
       " 'low',\n",
       " 'high',\n",
       " 'high',\n",
       " 'high',\n",
       " 'high',\n",
       " 'high',\n",
       " 'high',\n",
       " 'high',\n",
       " 'high',\n",
       " 'high',\n",
       " 'high',\n",
       " 'high',\n",
       " 'low',\n",
       " 'high',\n",
       " 'high',\n",
       " 'high',\n",
       " 'high',\n",
       " 'high',\n",
       " 'low',\n",
       " 'high',\n",
       " 'high',\n",
       " 'low',\n",
       " 'high',\n",
       " 'high',\n",
       " 'high',\n",
       " 'low',\n",
       " 'low',\n",
       " 'high',\n",
       " 'high',\n",
       " 'low',\n",
       " 'high',\n",
       " 'high',\n",
       " 'high',\n",
       " 'high',\n",
       " 'high',\n",
       " 'high',\n",
       " 'high',\n",
       " 'high',\n",
       " 'high',\n",
       " 'high',\n",
       " 'high',\n",
       " 'high',\n",
       " 'high',\n",
       " 'high',\n",
       " 'high',\n",
       " 'high',\n",
       " 'high',\n",
       " 'high',\n",
       " 'high',\n",
       " 'high',\n",
       " 'high',\n",
       " 'high',\n",
       " 'high',\n",
       " 'high',\n",
       " 'high',\n",
       " 'high',\n",
       " 'high',\n",
       " 'high',\n",
       " 'high',\n",
       " 'high',\n",
       " 'high',\n",
       " 'high',\n",
       " 'high',\n",
       " 'high',\n",
       " 'high',\n",
       " 'high',\n",
       " 'high',\n",
       " 'high',\n",
       " 'high',\n",
       " 'high',\n",
       " 'high',\n",
       " 'high',\n",
       " 'high',\n",
       " 'high',\n",
       " 'high',\n",
       " 'high',\n",
       " 'high',\n",
       " 'high',\n",
       " 'high',\n",
       " 'high',\n",
       " 'high',\n",
       " 'high',\n",
       " 'high',\n",
       " 'high',\n",
       " 'high',\n",
       " 'high',\n",
       " 'high',\n",
       " 'high',\n",
       " 'high',\n",
       " 'high',\n",
       " 'low',\n",
       " 'high',\n",
       " 'high',\n",
       " 'low',\n",
       " 'high',\n",
       " 'low',\n",
       " 'high',\n",
       " 'low',\n",
       " 'low',\n",
       " 'high',\n",
       " 'high',\n",
       " 'high',\n",
       " 'high',\n",
       " 'high',\n",
       " 'high',\n",
       " 'low',\n",
       " 'high',\n",
       " 'high',\n",
       " 'high',\n",
       " 'high',\n",
       " 'high',\n",
       " 'high',\n",
       " 'high',\n",
       " 'high',\n",
       " 'high',\n",
       " 'high',\n",
       " 'high',\n",
       " 'high',\n",
       " 'high',\n",
       " 'low',\n",
       " 'high',\n",
       " 'low',\n",
       " 'high',\n",
       " 'high',\n",
       " 'high',\n",
       " 'high',\n",
       " 'high',\n",
       " 'high',\n",
       " 'high',\n",
       " 'high',\n",
       " 'high',\n",
       " 'low',\n",
       " 'low',\n",
       " 'high',\n",
       " 'high',\n",
       " 'high',\n",
       " 'high',\n",
       " 'high',\n",
       " 'low',\n",
       " 'high',\n",
       " 'high',\n",
       " 'high',\n",
       " 'high',\n",
       " 'high',\n",
       " 'high',\n",
       " 'high',\n",
       " 'high',\n",
       " 'high',\n",
       " 'high',\n",
       " 'low',\n",
       " 'high',\n",
       " 'high',\n",
       " 'high',\n",
       " 'high',\n",
       " 'low',\n",
       " 'high',\n",
       " 'high',\n",
       " 'high',\n",
       " 'high',\n",
       " 'low',\n",
       " 'low',\n",
       " 'low',\n",
       " 'low',\n",
       " 'high',\n",
       " 'low',\n",
       " 'high',\n",
       " 'high',\n",
       " 'high',\n",
       " 'high',\n",
       " 'high',\n",
       " 'high',\n",
       " 'high',\n",
       " 'high',\n",
       " 'high',\n",
       " 'high',\n",
       " 'high',\n",
       " 'high',\n",
       " 'high',\n",
       " 'high',\n",
       " 'low',\n",
       " 'high',\n",
       " 'high',\n",
       " 'high',\n",
       " 'high',\n",
       " 'high',\n",
       " 'high',\n",
       " 'high',\n",
       " 'high',\n",
       " 'high',\n",
       " 'high',\n",
       " 'high',\n",
       " 'high',\n",
       " 'high',\n",
       " 'high',\n",
       " 'high',\n",
       " 'high',\n",
       " 'high',\n",
       " 'high',\n",
       " ...]"
      ]
     },
     "execution_count": 44,
     "metadata": {},
     "output_type": "execute_result"
    }
   ],
   "source": [
    "categories=[]\n",
    "median_gdp= df_encoded[\"gdp\"].mean()\n",
    "\n",
    "for col in df_encoded[\"gdp\"]:\n",
    "    if col <= median_gdp:\n",
    "        categories.append(\"high\")\n",
    "    else:\n",
    "        categories.append(\"low\")\n",
    "categories"
   ]
  },
  {
   "cell_type": "code",
   "execution_count": 45,
   "id": "206abebe-415c-4c9d-9ef3-33f7a3c41ea7",
   "metadata": {},
   "outputs": [],
   "source": [
    "df_encoded[\"category\"]= categories\n",
    "df_encoded= df_encoded*1"
   ]
  },
  {
   "cell_type": "code",
   "execution_count": 46,
   "id": "72f08989-1ce3-4984-93b7-30cc4c11f454",
   "metadata": {},
   "outputs": [
    {
     "data": {
      "text/html": [
       "<div>\n",
       "<style scoped>\n",
       "    .dataframe tbody tr th:only-of-type {\n",
       "        vertical-align: middle;\n",
       "    }\n",
       "\n",
       "    .dataframe tbody tr th {\n",
       "        vertical-align: top;\n",
       "    }\n",
       "\n",
       "    .dataframe thead th {\n",
       "        text-align: right;\n",
       "    }\n",
       "</style>\n",
       "<table border=\"1\" class=\"dataframe\">\n",
       "  <thead>\n",
       "    <tr style=\"text-align: right;\">\n",
       "      <th></th>\n",
       "      <th>gdp</th>\n",
       "      <th>population_total</th>\n",
       "      <th>tourism_inbound</th>\n",
       "      <th>tourism_outbound</th>\n",
       "      <th>region_Asia</th>\n",
       "      <th>region_Europe</th>\n",
       "      <th>region_Middle East</th>\n",
       "      <th>region_Oceania</th>\n",
       "      <th>region_The Americas</th>\n",
       "      <th>category</th>\n",
       "    </tr>\n",
       "  </thead>\n",
       "  <tbody>\n",
       "    <tr>\n",
       "      <th>0</th>\n",
       "      <td>54,790,058,957.00</td>\n",
       "      <td>31719449</td>\n",
       "      <td>102,000,000.00</td>\n",
       "      <td>193,000,000.00</td>\n",
       "      <td>0</td>\n",
       "      <td>0</td>\n",
       "      <td>0</td>\n",
       "      <td>0</td>\n",
       "      <td>0</td>\n",
       "      <td>high</td>\n",
       "    </tr>\n",
       "    <tr>\n",
       "      <th>1</th>\n",
       "      <td>9,129,594,819.00</td>\n",
       "      <td>13924930</td>\n",
       "      <td>34,000,000.00</td>\n",
       "      <td>146,000,000.00</td>\n",
       "      <td>0</td>\n",
       "      <td>0</td>\n",
       "      <td>0</td>\n",
       "      <td>0</td>\n",
       "      <td>0</td>\n",
       "      <td>high</td>\n",
       "    </tr>\n",
       "    <tr>\n",
       "      <th>2</th>\n",
       "      <td>2,359,122,303.00</td>\n",
       "      <td>6949366</td>\n",
       "      <td>77,000,000.00</td>\n",
       "      <td>50,000,000.00</td>\n",
       "      <td>0</td>\n",
       "      <td>0</td>\n",
       "      <td>0</td>\n",
       "      <td>0</td>\n",
       "      <td>0</td>\n",
       "      <td>high</td>\n",
       "    </tr>\n",
       "    <tr>\n",
       "      <th>3</th>\n",
       "      <td>5,788,311,645.00</td>\n",
       "      <td>1755375</td>\n",
       "      <td>227,000,000.00</td>\n",
       "      <td>209,000,000.00</td>\n",
       "      <td>0</td>\n",
       "      <td>0</td>\n",
       "      <td>0</td>\n",
       "      <td>0</td>\n",
       "      <td>0</td>\n",
       "      <td>high</td>\n",
       "    </tr>\n",
       "    <tr>\n",
       "      <th>4</th>\n",
       "      <td>2,610,959,139.00</td>\n",
       "      <td>11607944</td>\n",
       "      <td>23,000,000.00</td>\n",
       "      <td>30,000,000.00</td>\n",
       "      <td>0</td>\n",
       "      <td>0</td>\n",
       "      <td>0</td>\n",
       "      <td>0</td>\n",
       "      <td>0</td>\n",
       "      <td>high</td>\n",
       "    </tr>\n",
       "    <tr>\n",
       "      <th>...</th>\n",
       "      <td>...</td>\n",
       "      <td>...</td>\n",
       "      <td>...</td>\n",
       "      <td>...</td>\n",
       "      <td>...</td>\n",
       "      <td>...</td>\n",
       "      <td>...</td>\n",
       "      <td>...</td>\n",
       "      <td>...</td>\n",
       "      <td>...</td>\n",
       "    </tr>\n",
       "    <tr>\n",
       "      <th>2699</th>\n",
       "      <td>403,828,124,350.17</td>\n",
       "      <td>32427</td>\n",
       "      <td>4,701,064,957.26</td>\n",
       "      <td>3,746,369,230.77</td>\n",
       "      <td>0</td>\n",
       "      <td>0</td>\n",
       "      <td>0</td>\n",
       "      <td>0</td>\n",
       "      <td>1</td>\n",
       "      <td>low</td>\n",
       "    </tr>\n",
       "    <tr>\n",
       "      <th>2700</th>\n",
       "      <td>16,244,600,000,000.00</td>\n",
       "      <td>313873685</td>\n",
       "      <td>200,092,000,000.00</td>\n",
       "      <td>126,573,000,000.00</td>\n",
       "      <td>0</td>\n",
       "      <td>0</td>\n",
       "      <td>0</td>\n",
       "      <td>0</td>\n",
       "      <td>1</td>\n",
       "      <td>low</td>\n",
       "    </tr>\n",
       "    <tr>\n",
       "      <th>2701</th>\n",
       "      <td>50,004,354,667.00</td>\n",
       "      <td>3395253</td>\n",
       "      <td>2,222,000,000.00</td>\n",
       "      <td>1,028,000,000.00</td>\n",
       "      <td>0</td>\n",
       "      <td>0</td>\n",
       "      <td>0</td>\n",
       "      <td>0</td>\n",
       "      <td>1</td>\n",
       "      <td>high</td>\n",
       "    </tr>\n",
       "    <tr>\n",
       "      <th>2702</th>\n",
       "      <td>381,286,223,859.00</td>\n",
       "      <td>29954782</td>\n",
       "      <td>904,000,000.00</td>\n",
       "      <td>3,202,000,000.00</td>\n",
       "      <td>0</td>\n",
       "      <td>0</td>\n",
       "      <td>0</td>\n",
       "      <td>0</td>\n",
       "      <td>1</td>\n",
       "      <td>low</td>\n",
       "    </tr>\n",
       "    <tr>\n",
       "      <th>2703</th>\n",
       "      <td>403,828,124,350.17</td>\n",
       "      <td>105275</td>\n",
       "      <td>4,701,064,957.26</td>\n",
       "      <td>3,746,369,230.77</td>\n",
       "      <td>0</td>\n",
       "      <td>0</td>\n",
       "      <td>0</td>\n",
       "      <td>0</td>\n",
       "      <td>1</td>\n",
       "      <td>low</td>\n",
       "    </tr>\n",
       "  </tbody>\n",
       "</table>\n",
       "<p>2704 rows × 10 columns</p>\n",
       "</div>"
      ],
      "text/plain": [
       "                       gdp  population_total    tourism_inbound  \\\n",
       "0        54,790,058,957.00          31719449     102,000,000.00   \n",
       "1         9,129,594,819.00          13924930      34,000,000.00   \n",
       "2         2,359,122,303.00           6949366      77,000,000.00   \n",
       "3         5,788,311,645.00           1755375     227,000,000.00   \n",
       "4         2,610,959,139.00          11607944      23,000,000.00   \n",
       "...                    ...               ...                ...   \n",
       "2699    403,828,124,350.17             32427   4,701,064,957.26   \n",
       "2700 16,244,600,000,000.00         313873685 200,092,000,000.00   \n",
       "2701     50,004,354,667.00           3395253   2,222,000,000.00   \n",
       "2702    381,286,223,859.00          29954782     904,000,000.00   \n",
       "2703    403,828,124,350.17            105275   4,701,064,957.26   \n",
       "\n",
       "       tourism_outbound  region_Asia  region_Europe  region_Middle East  \\\n",
       "0        193,000,000.00            0              0                   0   \n",
       "1        146,000,000.00            0              0                   0   \n",
       "2         50,000,000.00            0              0                   0   \n",
       "3        209,000,000.00            0              0                   0   \n",
       "4         30,000,000.00            0              0                   0   \n",
       "...                 ...          ...            ...                 ...   \n",
       "2699   3,746,369,230.77            0              0                   0   \n",
       "2700 126,573,000,000.00            0              0                   0   \n",
       "2701   1,028,000,000.00            0              0                   0   \n",
       "2702   3,202,000,000.00            0              0                   0   \n",
       "2703   3,746,369,230.77            0              0                   0   \n",
       "\n",
       "      region_Oceania  region_The Americas category  \n",
       "0                  0                    0     high  \n",
       "1                  0                    0     high  \n",
       "2                  0                    0     high  \n",
       "3                  0                    0     high  \n",
       "4                  0                    0     high  \n",
       "...              ...                  ...      ...  \n",
       "2699               0                    1      low  \n",
       "2700               0                    1      low  \n",
       "2701               0                    1     high  \n",
       "2702               0                    1      low  \n",
       "2703               0                    1      low  \n",
       "\n",
       "[2704 rows x 10 columns]"
      ]
     },
     "execution_count": 46,
     "metadata": {},
     "output_type": "execute_result"
    }
   ],
   "source": [
    "df_encoded"
   ]
  },
  {
   "cell_type": "code",
   "execution_count": 47,
   "id": "9dbfdcf5-0c91-4b26-a6b6-d1a31ddec537",
   "metadata": {},
   "outputs": [],
   "source": [
    "df_encoded[\"num_category\"] = df_encoded[\"category\"].map({\"high\": 1, \"low\": 0})"
   ]
  },
  {
   "cell_type": "code",
   "execution_count": 48,
   "id": "468ced14-f4c5-4c73-8848-b205941b6203",
   "metadata": {},
   "outputs": [
    {
     "data": {
      "text/html": [
       "<div>\n",
       "<style scoped>\n",
       "    .dataframe tbody tr th:only-of-type {\n",
       "        vertical-align: middle;\n",
       "    }\n",
       "\n",
       "    .dataframe tbody tr th {\n",
       "        vertical-align: top;\n",
       "    }\n",
       "\n",
       "    .dataframe thead th {\n",
       "        text-align: right;\n",
       "    }\n",
       "</style>\n",
       "<table border=\"1\" class=\"dataframe\">\n",
       "  <thead>\n",
       "    <tr style=\"text-align: right;\">\n",
       "      <th></th>\n",
       "      <th>gdp</th>\n",
       "      <th>population_total</th>\n",
       "      <th>tourism_inbound</th>\n",
       "      <th>tourism_outbound</th>\n",
       "      <th>region_Asia</th>\n",
       "      <th>region_Europe</th>\n",
       "      <th>region_Middle East</th>\n",
       "      <th>region_Oceania</th>\n",
       "      <th>region_The Americas</th>\n",
       "      <th>num_category</th>\n",
       "    </tr>\n",
       "  </thead>\n",
       "  <tbody>\n",
       "    <tr>\n",
       "      <th>0</th>\n",
       "      <td>54,790,058,957.00</td>\n",
       "      <td>31719449</td>\n",
       "      <td>102,000,000.00</td>\n",
       "      <td>193,000,000.00</td>\n",
       "      <td>0</td>\n",
       "      <td>0</td>\n",
       "      <td>0</td>\n",
       "      <td>0</td>\n",
       "      <td>0</td>\n",
       "      <td>1</td>\n",
       "    </tr>\n",
       "    <tr>\n",
       "      <th>1</th>\n",
       "      <td>9,129,594,819.00</td>\n",
       "      <td>13924930</td>\n",
       "      <td>34,000,000.00</td>\n",
       "      <td>146,000,000.00</td>\n",
       "      <td>0</td>\n",
       "      <td>0</td>\n",
       "      <td>0</td>\n",
       "      <td>0</td>\n",
       "      <td>0</td>\n",
       "      <td>1</td>\n",
       "    </tr>\n",
       "  </tbody>\n",
       "</table>\n",
       "</div>"
      ],
      "text/plain": [
       "                gdp  population_total  tourism_inbound  tourism_outbound  \\\n",
       "0 54,790,058,957.00          31719449   102,000,000.00    193,000,000.00   \n",
       "1  9,129,594,819.00          13924930    34,000,000.00    146,000,000.00   \n",
       "\n",
       "   region_Asia  region_Europe  region_Middle East  region_Oceania  \\\n",
       "0            0              0                   0               0   \n",
       "1            0              0                   0               0   \n",
       "\n",
       "   region_The Americas  num_category  \n",
       "0                    0             1  \n",
       "1                    0             1  "
      ]
     },
     "execution_count": 48,
     "metadata": {},
     "output_type": "execute_result"
    }
   ],
   "source": [
    "df_ml= df_encoded.drop(columns=\"category\", axis=1)\n",
    "df_ml.head(2)"
   ]
  },
  {
   "cell_type": "code",
   "execution_count": 49,
   "id": "ec5e676c-9f00-405f-b8c9-fdfe2d85c3eb",
   "metadata": {},
   "outputs": [],
   "source": [
    "X = df_ml.drop('num_category', axis=1)\n",
    "y = df_ml['num_category']"
   ]
  },
  {
   "cell_type": "code",
   "execution_count": 50,
   "id": "01cd1384-d2e9-4bc5-9177-145498660155",
   "metadata": {},
   "outputs": [
    {
     "data": {
      "text/html": [
       "<div>\n",
       "<style scoped>\n",
       "    .dataframe tbody tr th:only-of-type {\n",
       "        vertical-align: middle;\n",
       "    }\n",
       "\n",
       "    .dataframe tbody tr th {\n",
       "        vertical-align: top;\n",
       "    }\n",
       "\n",
       "    .dataframe thead th {\n",
       "        text-align: right;\n",
       "    }\n",
       "</style>\n",
       "<table border=\"1\" class=\"dataframe\">\n",
       "  <thead>\n",
       "    <tr style=\"text-align: right;\">\n",
       "      <th></th>\n",
       "      <th>gdp</th>\n",
       "      <th>population_total</th>\n",
       "      <th>tourism_inbound</th>\n",
       "      <th>tourism_outbound</th>\n",
       "      <th>region_Asia</th>\n",
       "      <th>region_Europe</th>\n",
       "      <th>region_Middle East</th>\n",
       "      <th>region_Oceania</th>\n",
       "      <th>region_The Americas</th>\n",
       "    </tr>\n",
       "  </thead>\n",
       "  <tbody>\n",
       "    <tr>\n",
       "      <th>0</th>\n",
       "      <td>54,790,058,957.00</td>\n",
       "      <td>31719449</td>\n",
       "      <td>102,000,000.00</td>\n",
       "      <td>193,000,000.00</td>\n",
       "      <td>0</td>\n",
       "      <td>0</td>\n",
       "      <td>0</td>\n",
       "      <td>0</td>\n",
       "      <td>0</td>\n",
       "    </tr>\n",
       "    <tr>\n",
       "      <th>1</th>\n",
       "      <td>9,129,594,819.00</td>\n",
       "      <td>13924930</td>\n",
       "      <td>34,000,000.00</td>\n",
       "      <td>146,000,000.00</td>\n",
       "      <td>0</td>\n",
       "      <td>0</td>\n",
       "      <td>0</td>\n",
       "      <td>0</td>\n",
       "      <td>0</td>\n",
       "    </tr>\n",
       "  </tbody>\n",
       "</table>\n",
       "</div>"
      ],
      "text/plain": [
       "                gdp  population_total  tourism_inbound  tourism_outbound  \\\n",
       "0 54,790,058,957.00          31719449   102,000,000.00    193,000,000.00   \n",
       "1  9,129,594,819.00          13924930    34,000,000.00    146,000,000.00   \n",
       "\n",
       "   region_Asia  region_Europe  region_Middle East  region_Oceania  \\\n",
       "0            0              0                   0               0   \n",
       "1            0              0                   0               0   \n",
       "\n",
       "   region_The Americas  \n",
       "0                    0  \n",
       "1                    0  "
      ]
     },
     "execution_count": 50,
     "metadata": {},
     "output_type": "execute_result"
    }
   ],
   "source": [
    "X.head(2)"
   ]
  },
  {
   "cell_type": "code",
   "execution_count": 51,
   "id": "a80e76a6-1854-4ec9-b48f-61102250f518",
   "metadata": {},
   "outputs": [
    {
     "data": {
      "text/plain": [
       "0    1\n",
       "1    1\n",
       "Name: num_category, dtype: int64"
      ]
     },
     "execution_count": 51,
     "metadata": {},
     "output_type": "execute_result"
    }
   ],
   "source": [
    "y.head(2)"
   ]
  },
  {
   "cell_type": "code",
   "execution_count": 52,
   "id": "753fd94c-fd3e-43ef-8030-365b311b320b",
   "metadata": {},
   "outputs": [
    {
     "data": {
      "text/plain": [
       "Text(0.5, 1.0, 'Low vs High Category')"
      ]
     },
     "execution_count": 52,
     "metadata": {},
     "output_type": "execute_result"
    },
    {
     "data": {
      "image/png": "[encoded data removed]",
      "text/plain": [
       "<Figure size 640x480 with 1 Axes>"
      ]
     },
     "metadata": {},
     "output_type": "display_data"
    }
   ],
   "source": [
    "sns.countplot(data=df_ml, x=\"num_category\", palette=\"Oranges\")\n",
    "plt.xlabel(\"Low vs High Category\")\n",
    "plt.title(\"Low vs High Category\")"
   ]
  },
  {
   "cell_type": "code",
   "execution_count": 53,
   "id": "e868e3c1-5da8-48f2-9517-8a47017e81f1",
   "metadata": {},
   "outputs": [],
   "source": [
    "from sklearn.model_selection import train_test_split\n",
    "\n",
    "X_train, X_test, y_train, y_test = train_test_split(X, y, test_size=0.3, random_state=42)"
   ]
  },
  {
   "cell_type": "code",
   "execution_count": 54,
   "id": "3a40a82f-6818-4fdc-933b-1805e773a04a",
   "metadata": {},
   "outputs": [
    {
     "name": "stdout",
     "output_type": "stream",
     "text": [
      "100% of our data: 2704.\n",
      "70% for training data: 1892.\n",
      "30% for test data: 812.\n"
     ]
    }
   ],
   "source": [
    "print(f'100% of our data: {len(df_ml)}.')\n",
    "print(f'70% for training data: {len(X_train)}.')\n",
    "print(f'30% for test data: {len(X_test)}.')"
   ]
  },
  {
   "cell_type": "code",
   "execution_count": 55,
   "id": "d029470f-e310-4082-b453-53eec57af3a2",
   "metadata": {},
   "outputs": [],
   "source": [
    "from sklearn.linear_model import LogisticRegression\n",
    "\n",
    "model = LogisticRegression()"
   ]
  },
  {
   "cell_type": "code",
   "execution_count": 56,
   "id": "0befeb7c-0de6-4d7a-a948-f4698eced169",
   "metadata": {},
   "outputs": [
    {
     "data": {
      "text/html": [
       "<style>#sk-container-id-1 {color: black;background-color: white;}#sk-container-id-1 pre{padding: 0;}#sk-container-id-1 div.sk-toggleable {background-color: white;}#sk-container-id-1 label.sk-toggleable__label {cursor: pointer;display: block;width: 100%;margin-bottom: 0;padding: 0.3em;box-sizing: border-box;text-align: center;}#sk-container-id-1 label.sk-toggleable__label-arrow:before {content: \"▸\";float: left;margin-right: 0.25em;color: #696969;}#sk-container-id-1 label.sk-toggleable__label-arrow:hover:before {color: black;}#sk-container-id-1 div.sk-estimator:hover label.sk-toggleable__label-arrow:before {color: black;}#sk-container-id-1 div.sk-toggleable__content {max-height: 0;max-width: 0;overflow: hidden;text-align: left;background-color: #f0f8ff;}#sk-container-id-1 div.sk-toggleable__content pre {margin: 0.2em;color: black;border-radius: 0.25em;background-color: #f0f8ff;}#sk-container-id-1 input.sk-toggleable__control:checked~div.sk-toggleable__content {max-height: 200px;max-width: 100%;overflow: auto;}#sk-container-id-1 input.sk-toggleable__control:checked~label.sk-toggleable__label-arrow:before {content: \"▾\";}#sk-container-id-1 div.sk-estimator input.sk-toggleable__control:checked~label.sk-toggleable__label {background-color: #d4ebff;}#sk-container-id-1 div.sk-label input.sk-toggleable__control:checked~label.sk-toggleable__label {background-color: #d4ebff;}#sk-container-id-1 input.sk-hidden--visually {border: 0;clip: rect(1px 1px 1px 1px);clip: rect(1px, 1px, 1px, 1px);height: 1px;margin: -1px;overflow: hidden;padding: 0;position: absolute;width: 1px;}#sk-container-id-1 div.sk-estimator {font-family: monospace;background-color: #f0f8ff;border: 1px dotted black;border-radius: 0.25em;box-sizing: border-box;margin-bottom: 0.5em;}#sk-container-id-1 div.sk-estimator:hover {background-color: #d4ebff;}#sk-container-id-1 div.sk-parallel-item::after {content: \"\";width: 100%;border-bottom: 1px solid gray;flex-grow: 1;}#sk-container-id-1 div.sk-label:hover label.sk-toggleable__label {background-color: #d4ebff;}#sk-container-id-1 div.sk-serial::before {content: \"\";position: absolute;border-left: 1px solid gray;box-sizing: border-box;top: 0;bottom: 0;left: 50%;z-index: 0;}#sk-container-id-1 div.sk-serial {display: flex;flex-direction: column;align-items: center;background-color: white;padding-right: 0.2em;padding-left: 0.2em;position: relative;}#sk-container-id-1 div.sk-item {position: relative;z-index: 1;}#sk-container-id-1 div.sk-parallel {display: flex;align-items: stretch;justify-content: center;background-color: white;position: relative;}#sk-container-id-1 div.sk-item::before, #sk-container-id-1 div.sk-parallel-item::before {content: \"\";position: absolute;border-left: 1px solid gray;box-sizing: border-box;top: 0;bottom: 0;left: 50%;z-index: -1;}#sk-container-id-1 div.sk-parallel-item {display: flex;flex-direction: column;z-index: 1;position: relative;background-color: white;}#sk-container-id-1 div.sk-parallel-item:first-child::after {align-self: flex-end;width: 50%;}#sk-container-id-1 div.sk-parallel-item:last-child::after {align-self: flex-start;width: 50%;}#sk-container-id-1 div.sk-parallel-item:only-child::after {width: 0;}#sk-container-id-1 div.sk-dashed-wrapped {border: 1px dashed gray;margin: 0 0.4em 0.5em 0.4em;box-sizing: border-box;padding-bottom: 0.4em;background-color: white;}#sk-container-id-1 div.sk-label label {font-family: monospace;font-weight: bold;display: inline-block;line-height: 1.2em;}#sk-container-id-1 div.sk-label-container {text-align: center;}#sk-container-id-1 div.sk-container {/* jupyter's `normalize.less` sets `[hidden] { display: none; }` but bootstrap.min.css set `[hidden] { display: none !important; }` so we also need the `!important` here to be able to override the default hidden behavior on the sphinx rendered scikit-learn.org. See: https://github.com/scikit-learn/scikit-learn/issues/21755 */display: inline-block !important;position: relative;}#sk-container-id-1 div.sk-text-repr-fallback {display: none;}</style><div id=\"sk-container-id-1\" class=\"sk-top-container\"><div class=\"sk-text-repr-fallback\"><pre>LogisticRegression()</pre><b>In a Jupyter environment, please rerun this cell to show the HTML representation or trust the notebook. <br />On GitHub, the HTML representation is unable to render, please try loading this page with nbviewer.org.</b></div><div class=\"sk-container\" hidden><div class=\"sk-item\"><div class=\"sk-estimator sk-toggleable\"><input class=\"sk-toggleable__control sk-hidden--visually\" id=\"sk-estimator-id-1\" type=\"checkbox\" checked><label for=\"sk-estimator-id-1\" class=\"sk-toggleable__label sk-toggleable__label-arrow\">LogisticRegression</label><div class=\"sk-toggleable__content\"><pre>LogisticRegression()</pre></div></div></div></div></div>"
      ],
      "text/plain": [
       "LogisticRegression()"
      ]
     },
     "execution_count": 56,
     "metadata": {},
     "output_type": "execute_result"
    }
   ],
   "source": [
    "model.fit(X_train, y_train)"
   ]
  },
  {
   "cell_type": "code",
   "execution_count": 57,
   "id": "9592a3aa-4623-49df-af51-960da2eba544",
   "metadata": {},
   "outputs": [],
   "source": [
    "#model validation\n",
    "\n",
    "predictions = model.predict(X_test)"
   ]
  },
  {
   "cell_type": "code",
   "execution_count": 58,
   "id": "4c8df318-10ac-48f3-9280-990e73763105",
   "metadata": {},
   "outputs": [
    {
     "name": "stdout",
     "output_type": "stream",
     "text": [
      "30% for test prediction data: 812.\n"
     ]
    }
   ],
   "source": [
    "print(f'30% for test prediction data: {len(predictions)}.')"
   ]
  },
  {
   "cell_type": "code",
   "execution_count": 59,
   "id": "47049bc0-db09-4346-8d37-4d049eda41cb",
   "metadata": {},
   "outputs": [
    {
     "name": "stdout",
     "output_type": "stream",
     "text": [
      "              precision    recall  f1-score   support\n",
      "\n",
      "           0       0.45      0.90      0.60       134\n",
      "           1       0.98      0.78      0.87       678\n",
      "\n",
      "    accuracy                           0.80       812\n",
      "   macro avg       0.71      0.84      0.73       812\n",
      "weighted avg       0.89      0.80      0.82       812\n",
      "\n"
     ]
    }
   ],
   "source": [
    "#metrics\n",
    "from sklearn.metrics import classification_report\n",
    "\n",
    "print(classification_report(y_test, predictions))"
   ]
  },
  {
   "cell_type": "code",
   "execution_count": 60,
   "id": "e1f96e03-74f3-46f1-a80d-22b343e43263",
   "metadata": {},
   "outputs": [],
   "source": [
    "from sklearn.metrics import confusion_matrix\n",
    "\n",
    "cm = confusion_matrix(y_test, predictions)"
   ]
  },
  {
   "cell_type": "code",
   "execution_count": 61,
   "id": "8f490c50-15ba-4ad8-a1f4-7be05227d761",
   "metadata": {},
   "outputs": [
    {
     "data": {
      "text/plain": [
       "<Figure size 800x600 with 0 Axes>"
      ]
     },
     "metadata": {},
     "output_type": "display_data"
    },
    {
     "data": {
      "image/png": "[encoded data removed]",
      "text/plain": [
       "<Figure size 640x480 with 2 Axes>"
      ]
     },
     "metadata": {},
     "output_type": "display_data"
    }
   ],
   "source": [
    "from sklearn.metrics import ConfusionMatrixDisplay\n",
    "\n",
    "disp = ConfusionMatrixDisplay(confusion_matrix=cm)\n",
    "plt.figure(figsize=(8, 6))\n",
    "disp.plot(cmap='Greens')  \n",
    "plt.grid(True)\n",
    "plt.show()"
   ]
  },
  {
   "cell_type": "markdown",
   "id": "7e752c69-1cf7-4c10-b51b-df94d62c78dc",
   "metadata": {},
   "source": [
    "<h3 style=\"color: #47FF64;\">Imbalanced Data</h3>\n",
    "#model does not perform well due to imbalance data"
   ]
  },
  {
   "cell_type": "code",
   "execution_count": 62,
   "id": "2eaf37db-5f31-41f0-bd84-1f029d3ef293",
   "metadata": {},
   "outputs": [],
   "source": [
    "from sklearn.utils import resample\n",
    "train = pd.concat([X_train, y_train], axis=1)"
   ]
  },
  {
   "cell_type": "code",
   "execution_count": 63,
   "id": "221df89e-4820-4c50-8393-e14a0b551bef",
   "metadata": {},
   "outputs": [],
   "source": [
    "high = train[train['num_category']==1]\n",
    "low = train[train['num_category']==0]"
   ]
  },
  {
   "cell_type": "code",
   "execution_count": 64,
   "id": "e5491504-42d0-4f8e-ae41-7da1a89d94a2",
   "metadata": {},
   "outputs": [],
   "source": [
    "undersampled_high = resample(high,\n",
    "                             replace=False,  # Sample without replacement\n",
    "                             n_samples=len(low),  # Match number in minority class\n",
    "                             random_state=42)  # Reproducible results"
   ]
  },
  {
   "cell_type": "code",
   "execution_count": 65,
   "id": "0ebf9ac8-0c44-4476-aef2-95db78cc5ba3",
   "metadata": {},
   "outputs": [
    {
     "data": {
      "text/plain": [
       "(1546, 10)"
      ]
     },
     "metadata": {},
     "output_type": "display_data"
    },
    {
     "data": {
      "text/plain": [
       "(346, 10)"
      ]
     },
     "metadata": {},
     "output_type": "display_data"
    },
    {
     "data": {
      "text/plain": [
       "(346, 10)"
      ]
     },
     "metadata": {},
     "output_type": "display_data"
    }
   ],
   "source": [
    "display(high.shape)\n",
    "display(low.shape)\n",
    "display(undersampled_high.shape)"
   ]
  },
  {
   "cell_type": "code",
   "execution_count": 66,
   "id": "029b149a-e93e-41bd-ac12-ded55862ef43",
   "metadata": {},
   "outputs": [
    {
     "data": {
      "text/html": [
       "<div>\n",
       "<style scoped>\n",
       "    .dataframe tbody tr th:only-of-type {\n",
       "        vertical-align: middle;\n",
       "    }\n",
       "\n",
       "    .dataframe tbody tr th {\n",
       "        vertical-align: top;\n",
       "    }\n",
       "\n",
       "    .dataframe thead th {\n",
       "        text-align: right;\n",
       "    }\n",
       "</style>\n",
       "<table border=\"1\" class=\"dataframe\">\n",
       "  <thead>\n",
       "    <tr style=\"text-align: right;\">\n",
       "      <th></th>\n",
       "      <th>gdp</th>\n",
       "      <th>population_total</th>\n",
       "      <th>tourism_inbound</th>\n",
       "      <th>tourism_outbound</th>\n",
       "      <th>region_Asia</th>\n",
       "      <th>region_Europe</th>\n",
       "      <th>region_Middle East</th>\n",
       "      <th>region_Oceania</th>\n",
       "      <th>region_The Americas</th>\n",
       "      <th>num_category</th>\n",
       "    </tr>\n",
       "  </thead>\n",
       "  <tbody>\n",
       "    <tr>\n",
       "      <th>1588</th>\n",
       "      <td>647,155,131,952.00</td>\n",
       "      <td>69496513</td>\n",
       "      <td>21,662,000,000.00</td>\n",
       "      <td>4,254,000,000.00</td>\n",
       "      <td>0</td>\n",
       "      <td>1</td>\n",
       "      <td>0</td>\n",
       "      <td>0</td>\n",
       "      <td>0</td>\n",
       "      <td>0</td>\n",
       "    </tr>\n",
       "    <tr>\n",
       "      <th>348</th>\n",
       "      <td>34,890,773,740.00</td>\n",
       "      <td>1980604</td>\n",
       "      <td>286,000,000.00</td>\n",
       "      <td>3,207,000,000.00</td>\n",
       "      <td>0</td>\n",
       "      <td>0</td>\n",
       "      <td>1</td>\n",
       "      <td>0</td>\n",
       "      <td>0</td>\n",
       "      <td>1</td>\n",
       "    </tr>\n",
       "    <tr>\n",
       "      <th>2348</th>\n",
       "      <td>7,321,891,954,613.00</td>\n",
       "      <td>1344130000</td>\n",
       "      <td>53,313,000,000.00</td>\n",
       "      <td>79,010,000,000.00</td>\n",
       "      <td>1</td>\n",
       "      <td>0</td>\n",
       "      <td>0</td>\n",
       "      <td>0</td>\n",
       "      <td>0</td>\n",
       "      <td>0</td>\n",
       "    </tr>\n",
       "    <tr>\n",
       "      <th>1349</th>\n",
       "      <td>2,255,706,212,516.00</td>\n",
       "      <td>63617975</td>\n",
       "      <td>54,450,000,000.00</td>\n",
       "      <td>39,331,000,000.00</td>\n",
       "      <td>0</td>\n",
       "      <td>1</td>\n",
       "      <td>0</td>\n",
       "      <td>0</td>\n",
       "      <td>0</td>\n",
       "      <td>0</td>\n",
       "    </tr>\n",
       "    <tr>\n",
       "      <th>706</th>\n",
       "      <td>142,640,079,033.00</td>\n",
       "      <td>64488338</td>\n",
       "      <td>10,456,000,000.00</td>\n",
       "      <td>3,538,000,000.00</td>\n",
       "      <td>1</td>\n",
       "      <td>0</td>\n",
       "      <td>0</td>\n",
       "      <td>0</td>\n",
       "      <td>0</td>\n",
       "      <td>1</td>\n",
       "    </tr>\n",
       "    <tr>\n",
       "      <th>747</th>\n",
       "      <td>59,466,017,706.00</td>\n",
       "      <td>21574326</td>\n",
       "      <td>523,000,000.00</td>\n",
       "      <td>572,000,000.00</td>\n",
       "      <td>0</td>\n",
       "      <td>1</td>\n",
       "      <td>0</td>\n",
       "      <td>0</td>\n",
       "      <td>0</td>\n",
       "      <td>1</td>\n",
       "    </tr>\n",
       "    <tr>\n",
       "      <th>2593</th>\n",
       "      <td>315,164,386,682.00</td>\n",
       "      <td>5591572</td>\n",
       "      <td>6,135,000,000.00</td>\n",
       "      <td>9,600,000,000.00</td>\n",
       "      <td>0</td>\n",
       "      <td>1</td>\n",
       "      <td>0</td>\n",
       "      <td>0</td>\n",
       "      <td>0</td>\n",
       "      <td>0</td>\n",
       "    </tr>\n",
       "    <tr>\n",
       "      <th>1262</th>\n",
       "      <td>107,484,034,648.00</td>\n",
       "      <td>72990754</td>\n",
       "      <td>8,133,000,000.00</td>\n",
       "      <td>2,156,000,000.00</td>\n",
       "      <td>0</td>\n",
       "      <td>0</td>\n",
       "      <td>0</td>\n",
       "      <td>0</td>\n",
       "      <td>0</td>\n",
       "      <td>1</td>\n",
       "    </tr>\n",
       "    <tr>\n",
       "      <th>615</th>\n",
       "      <td>403,828,124,350.17</td>\n",
       "      <td>27450</td>\n",
       "      <td>4,701,064,957.26</td>\n",
       "      <td>3,746,369,230.77</td>\n",
       "      <td>0</td>\n",
       "      <td>0</td>\n",
       "      <td>0</td>\n",
       "      <td>0</td>\n",
       "      <td>1</td>\n",
       "      <td>0</td>\n",
       "    </tr>\n",
       "    <tr>\n",
       "      <th>2260</th>\n",
       "      <td>50,980,167,048.00</td>\n",
       "      <td>10016797</td>\n",
       "      <td>4,209,000,000.00</td>\n",
       "      <td>554,000,000.00</td>\n",
       "      <td>0</td>\n",
       "      <td>0</td>\n",
       "      <td>0</td>\n",
       "      <td>0</td>\n",
       "      <td>1</td>\n",
       "      <td>1</td>\n",
       "    </tr>\n",
       "  </tbody>\n",
       "</table>\n",
       "</div>"
      ],
      "text/plain": [
       "                      gdp  population_total   tourism_inbound  \\\n",
       "1588   647,155,131,952.00          69496513 21,662,000,000.00   \n",
       "348     34,890,773,740.00           1980604    286,000,000.00   \n",
       "2348 7,321,891,954,613.00        1344130000 53,313,000,000.00   \n",
       "1349 2,255,706,212,516.00          63617975 54,450,000,000.00   \n",
       "706    142,640,079,033.00          64488338 10,456,000,000.00   \n",
       "747     59,466,017,706.00          21574326    523,000,000.00   \n",
       "2593   315,164,386,682.00           5591572  6,135,000,000.00   \n",
       "1262   107,484,034,648.00          72990754  8,133,000,000.00   \n",
       "615    403,828,124,350.17             27450  4,701,064,957.26   \n",
       "2260    50,980,167,048.00          10016797  4,209,000,000.00   \n",
       "\n",
       "      tourism_outbound  region_Asia  region_Europe  region_Middle East  \\\n",
       "1588  4,254,000,000.00            0              1                   0   \n",
       "348   3,207,000,000.00            0              0                   1   \n",
       "2348 79,010,000,000.00            1              0                   0   \n",
       "1349 39,331,000,000.00            0              1                   0   \n",
       "706   3,538,000,000.00            1              0                   0   \n",
       "747     572,000,000.00            0              1                   0   \n",
       "2593  9,600,000,000.00            0              1                   0   \n",
       "1262  2,156,000,000.00            0              0                   0   \n",
       "615   3,746,369,230.77            0              0                   0   \n",
       "2260    554,000,000.00            0              0                   0   \n",
       "\n",
       "      region_Oceania  region_The Americas  num_category  \n",
       "1588               0                    0             0  \n",
       "348                0                    0             1  \n",
       "2348               0                    0             0  \n",
       "1349               0                    0             0  \n",
       "706                0                    0             1  \n",
       "747                0                    0             1  \n",
       "2593               0                    0             0  \n",
       "1262               0                    0             1  \n",
       "615                0                    1             0  \n",
       "2260               0                    1             1  "
      ]
     },
     "execution_count": 66,
     "metadata": {},
     "output_type": "execute_result"
    }
   ],
   "source": [
    "train_undersampled = pd.concat([low,undersampled_high])\n",
    "train_undersampled.sample(10)"
   ]
  },
  {
   "cell_type": "code",
   "execution_count": 67,
   "id": "768b0d68-f9ff-47de-a148-14925178a7aa",
   "metadata": {},
   "outputs": [
    {
     "name": "stdout",
     "output_type": "stream",
     "text": [
      "num_category\n",
      "0    346\n",
      "1    346\n",
      "Name: count, dtype: int64\n"
     ]
    }
   ],
   "source": [
    "print(train_undersampled['num_category'].value_counts())\n"
   ]
  },
  {
   "cell_type": "code",
   "execution_count": 68,
   "id": "5acd320e-5e8c-475e-9ea7-5998c5fcf9d3",
   "metadata": {},
   "outputs": [
    {
     "data": {
      "text/plain": [
       "Text(0.5, 1.0, 'Low vs High Category')"
      ]
     },
     "execution_count": 68,
     "metadata": {},
     "output_type": "execute_result"
    },
    {
     "data": {
      "image/png": "[encoded data removed]",
      "text/plain": [
       "<Figure size 640x480 with 1 Axes>"
      ]
     },
     "metadata": {},
     "output_type": "display_data"
    }
   ],
   "source": [
    "sns.countplot(data=train_undersampled, x=\"num_category\", palette=\"Oranges\")\n",
    "plt.xlabel(\"Low vs High Category\")\n",
    "plt.title(\"Low vs High Category\")"
   ]
  },
  {
   "cell_type": "code",
   "execution_count": 69,
   "id": "8bd2fe00-c5d4-4cd2-a0f5-9038a112de00",
   "metadata": {},
   "outputs": [],
   "source": [
    "X_train = train_undersampled.drop('num_category',axis = 1).copy()\n",
    "y_train = train_undersampled['num_category'].copy()"
   ]
  },
  {
   "cell_type": "code",
   "execution_count": 70,
   "id": "508cf581-be18-4758-b71b-276830382d3c",
   "metadata": {},
   "outputs": [
    {
     "data": {
      "text/html": [
       "<style>#sk-container-id-2 {color: black;background-color: white;}#sk-container-id-2 pre{padding: 0;}#sk-container-id-2 div.sk-toggleable {background-color: white;}#sk-container-id-2 label.sk-toggleable__label {cursor: pointer;display: block;width: 100%;margin-bottom: 0;padding: 0.3em;box-sizing: border-box;text-align: center;}#sk-container-id-2 label.sk-toggleable__label-arrow:before {content: \"▸\";float: left;margin-right: 0.25em;color: #696969;}#sk-container-id-2 label.sk-toggleable__label-arrow:hover:before {color: black;}#sk-container-id-2 div.sk-estimator:hover label.sk-toggleable__label-arrow:before {color: black;}#sk-container-id-2 div.sk-toggleable__content {max-height: 0;max-width: 0;overflow: hidden;text-align: left;background-color: #f0f8ff;}#sk-container-id-2 div.sk-toggleable__content pre {margin: 0.2em;color: black;border-radius: 0.25em;background-color: #f0f8ff;}#sk-container-id-2 input.sk-toggleable__control:checked~div.sk-toggleable__content {max-height: 200px;max-width: 100%;overflow: auto;}#sk-container-id-2 input.sk-toggleable__control:checked~label.sk-toggleable__label-arrow:before {content: \"▾\";}#sk-container-id-2 div.sk-estimator input.sk-toggleable__control:checked~label.sk-toggleable__label {background-color: #d4ebff;}#sk-container-id-2 div.sk-label input.sk-toggleable__control:checked~label.sk-toggleable__label {background-color: #d4ebff;}#sk-container-id-2 input.sk-hidden--visually {border: 0;clip: rect(1px 1px 1px 1px);clip: rect(1px, 1px, 1px, 1px);height: 1px;margin: -1px;overflow: hidden;padding: 0;position: absolute;width: 1px;}#sk-container-id-2 div.sk-estimator {font-family: monospace;background-color: #f0f8ff;border: 1px dotted black;border-radius: 0.25em;box-sizing: border-box;margin-bottom: 0.5em;}#sk-container-id-2 div.sk-estimator:hover {background-color: #d4ebff;}#sk-container-id-2 div.sk-parallel-item::after {content: \"\";width: 100%;border-bottom: 1px solid gray;flex-grow: 1;}#sk-container-id-2 div.sk-label:hover label.sk-toggleable__label {background-color: #d4ebff;}#sk-container-id-2 div.sk-serial::before {content: \"\";position: absolute;border-left: 1px solid gray;box-sizing: border-box;top: 0;bottom: 0;left: 50%;z-index: 0;}#sk-container-id-2 div.sk-serial {display: flex;flex-direction: column;align-items: center;background-color: white;padding-right: 0.2em;padding-left: 0.2em;position: relative;}#sk-container-id-2 div.sk-item {position: relative;z-index: 1;}#sk-container-id-2 div.sk-parallel {display: flex;align-items: stretch;justify-content: center;background-color: white;position: relative;}#sk-container-id-2 div.sk-item::before, #sk-container-id-2 div.sk-parallel-item::before {content: \"\";position: absolute;border-left: 1px solid gray;box-sizing: border-box;top: 0;bottom: 0;left: 50%;z-index: -1;}#sk-container-id-2 div.sk-parallel-item {display: flex;flex-direction: column;z-index: 1;position: relative;background-color: white;}#sk-container-id-2 div.sk-parallel-item:first-child::after {align-self: flex-end;width: 50%;}#sk-container-id-2 div.sk-parallel-item:last-child::after {align-self: flex-start;width: 50%;}#sk-container-id-2 div.sk-parallel-item:only-child::after {width: 0;}#sk-container-id-2 div.sk-dashed-wrapped {border: 1px dashed gray;margin: 0 0.4em 0.5em 0.4em;box-sizing: border-box;padding-bottom: 0.4em;background-color: white;}#sk-container-id-2 div.sk-label label {font-family: monospace;font-weight: bold;display: inline-block;line-height: 1.2em;}#sk-container-id-2 div.sk-label-container {text-align: center;}#sk-container-id-2 div.sk-container {/* jupyter's `normalize.less` sets `[hidden] { display: none; }` but bootstrap.min.css set `[hidden] { display: none !important; }` so we also need the `!important` here to be able to override the default hidden behavior on the sphinx rendered scikit-learn.org. See: https://github.com/scikit-learn/scikit-learn/issues/21755 */display: inline-block !important;position: relative;}#sk-container-id-2 div.sk-text-repr-fallback {display: none;}</style><div id=\"sk-container-id-2\" class=\"sk-top-container\"><div class=\"sk-text-repr-fallback\"><pre>RandomForestClassifier()</pre><b>In a Jupyter environment, please rerun this cell to show the HTML representation or trust the notebook. <br />On GitHub, the HTML representation is unable to render, please try loading this page with nbviewer.org.</b></div><div class=\"sk-container\" hidden><div class=\"sk-item\"><div class=\"sk-estimator sk-toggleable\"><input class=\"sk-toggleable__control sk-hidden--visually\" id=\"sk-estimator-id-2\" type=\"checkbox\" checked><label for=\"sk-estimator-id-2\" class=\"sk-toggleable__label sk-toggleable__label-arrow\">RandomForestClassifier</label><div class=\"sk-toggleable__content\"><pre>RandomForestClassifier()</pre></div></div></div></div></div>"
      ],
      "text/plain": [
       "RandomForestClassifier()"
      ]
     },
     "execution_count": 70,
     "metadata": {},
     "output_type": "execute_result"
    }
   ],
   "source": [
    "from sklearn.ensemble import RandomForestClassifier\n",
    "\n",
    "model = RandomForestClassifier()\n",
    "model.fit(X_train, y_train)"
   ]
  },
  {
   "cell_type": "code",
   "execution_count": 71,
   "id": "dc51d44c-f821-42b1-8485-835ce0d0dc5e",
   "metadata": {},
   "outputs": [],
   "source": [
    "predictions = model.predict(X_test)"
   ]
  },
  {
   "cell_type": "code",
   "execution_count": 72,
   "id": "d7e7a040-1f64-4486-82b0-1ecf2a4b4691",
   "metadata": {},
   "outputs": [
    {
     "name": "stdout",
     "output_type": "stream",
     "text": [
      "              precision    recall  f1-score   support\n",
      "\n",
      "           0       0.99      1.00      1.00       134\n",
      "           1       1.00      1.00      1.00       678\n",
      "\n",
      "    accuracy                           1.00       812\n",
      "   macro avg       1.00      1.00      1.00       812\n",
      "weighted avg       1.00      1.00      1.00       812\n",
      "\n"
     ]
    }
   ],
   "source": [
    "print(classification_report(y_test, predictions))"
   ]
  },
  {
   "cell_type": "markdown",
   "id": "1d061dd6-a156-49bb-a470-2ffdbe48af5d",
   "metadata": {},
   "source": [
    "Conclusion: I managed to downsample the high category and improve the model however it shows almost perfect values which can be a proof of overfitting."
   ]
  }
 ],
 "metadata": {
  "kernelspec": {
   "display_name": "Python 3 (ipykernel)",
   "language": "python",
   "name": "python3"
  },
  "language_info": {
   "codemirror_mode": {
    "name": "ipython",
    "version": 3
   },
   "file_extension": ".py",
   "mimetype": "text/x-python",
   "name": "python",
   "nbconvert_exporter": "python",
   "pygments_lexer": "ipython3",
   "version": "3.11.7"
  }
 },
 "nbformat": 4,
 "nbformat_minor": 5
}
